{
 "cells": [
  {
   "cell_type": "code",
   "execution_count": 63,
   "id": "d11b7478",
   "metadata": {},
   "outputs": [],
   "source": [
    "from astropy.io import fits\n",
    "import glob as glob\n",
    "import numpy as np\n",
    "import os\n",
    "import scipy\n",
    "import pandas as pd\n",
    "import matplotlib.pyplot as plt\n",
    "import pickle\n",
    "\n",
    "%matplotlib qt"
   ]
  },
  {
   "cell_type": "code",
   "execution_count": null,
   "id": "ee09daa5",
   "metadata": {},
   "outputs": [],
   "source": [
    "# read in files, dark-subtract, populate wavelength array"
   ]
  },
  {
   "cell_type": "code",
   "execution_count": 2,
   "id": "aef6ecb6",
   "metadata": {},
   "outputs": [],
   "source": [
    "stem = '/Users/bandari/Documents/git.repos/photonics_spectroscopy/notebooks_for_development/data/19pl/raw/'"
   ]
  },
  {
   "cell_type": "code",
   "execution_count": 17,
   "id": "b009a1a5",
   "metadata": {},
   "outputs": [],
   "source": [
    "rel_pos = {'0':(39,81),\n",
    "           '1':(29,115),\n",
    "           '2':(38,113),\n",
    "           '3':(46,111),\n",
    "           '4':(23,108),\n",
    "           '5':(32,106),\n",
    "           '6':(40,105),\n",
    "           '7':(49,103),\n",
    "           '8':(17,101),\n",
    "           '9':(26,100),\n",
    "           '10':(34,98),\n",
    "           '11':(43,96),\n",
    "           '12':(51,94),\n",
    "           '13':(20,93),\n",
    "           '14':(28,91),\n",
    "           '15':(37,90),\n",
    "           '16':(45,88),\n",
    "           '17':(22,84),\n",
    "           '18':(31,83)}"
   ]
  },
  {
   "cell_type": "code",
   "execution_count": 3,
   "id": "25e1e604",
   "metadata": {},
   "outputs": [],
   "source": [
    "file_list = glob.glob(stem + '19PL_1*fits')"
   ]
  },
  {
   "cell_type": "code",
   "execution_count": 5,
   "id": "6e65c8a4",
   "metadata": {},
   "outputs": [],
   "source": [
    "# read in dark\n",
    "dark_apapane = stem + 'apapanedark.fits'\n",
    "dark = fits.open(dark_apapane)[0].data"
   ]
  },
  {
   "cell_type": "code",
   "execution_count": 32,
   "id": "f803733b",
   "metadata": {},
   "outputs": [],
   "source": [
    "# define reference frame (needs to have all ports visible on array)\n",
    "file_ref = fits.open(stem + '19PL_1180.fits')[0].data\n",
    "# dark-subt\n",
    "ref_frame = file_ref-dark"
   ]
  },
  {
   "cell_type": "code",
   "execution_count": 31,
   "id": "980c7fbb",
   "metadata": {},
   "outputs": [],
   "source": [
    "plt.imshow(array_ref)\n",
    "plt.show()"
   ]
  },
  {
   "cell_type": "code",
   "execution_count": 42,
   "id": "af234529",
   "metadata": {},
   "outputs": [],
   "source": [
    "df = pd.DataFrame()"
   ]
  },
  {
   "cell_type": "code",
   "execution_count": 49,
   "id": "d646f9ca",
   "metadata": {},
   "outputs": [],
   "source": [
    "dict_info = {'x_shift':[2],'y_shift':[3],'wavel':[2]}\n",
    "df_this = pd.DataFrame.from_dict(dict_info)"
   ]
  },
  {
   "cell_type": "code",
   "execution_count": 50,
   "id": "af0be88a",
   "metadata": {},
   "outputs": [
    {
     "data": {
      "text/html": [
       "<div>\n",
       "<style scoped>\n",
       "    .dataframe tbody tr th:only-of-type {\n",
       "        vertical-align: middle;\n",
       "    }\n",
       "\n",
       "    .dataframe tbody tr th {\n",
       "        vertical-align: top;\n",
       "    }\n",
       "\n",
       "    .dataframe thead th {\n",
       "        text-align: right;\n",
       "    }\n",
       "</style>\n",
       "<table border=\"1\" class=\"dataframe\">\n",
       "  <thead>\n",
       "    <tr style=\"text-align: right;\">\n",
       "      <th></th>\n",
       "      <th>x_shift</th>\n",
       "      <th>y_shift</th>\n",
       "      <th>wavel</th>\n",
       "    </tr>\n",
       "  </thead>\n",
       "  <tbody>\n",
       "    <tr>\n",
       "      <th>0</th>\n",
       "      <td>2</td>\n",
       "      <td>3</td>\n",
       "      <td>2</td>\n",
       "    </tr>\n",
       "  </tbody>\n",
       "</table>\n",
       "</div>"
      ],
      "text/plain": [
       "   x_shift  y_shift  wavel\n",
       "0        2        3      2"
      ]
     },
     "execution_count": 50,
     "metadata": {},
     "output_type": "execute_result"
    }
   ],
   "source": [
    "df_this"
   ]
  },
  {
   "cell_type": "code",
   "execution_count": 51,
   "id": "695b8d97",
   "metadata": {},
   "outputs": [],
   "source": [
    "df = pd.concat([df,df_this], ignore_index=True)"
   ]
  },
  {
   "cell_type": "code",
   "execution_count": 52,
   "id": "8f0db360",
   "metadata": {},
   "outputs": [
    {
     "data": {
      "text/html": [
       "<div>\n",
       "<style scoped>\n",
       "    .dataframe tbody tr th:only-of-type {\n",
       "        vertical-align: middle;\n",
       "    }\n",
       "\n",
       "    .dataframe tbody tr th {\n",
       "        vertical-align: top;\n",
       "    }\n",
       "\n",
       "    .dataframe thead th {\n",
       "        text-align: right;\n",
       "    }\n",
       "</style>\n",
       "<table border=\"1\" class=\"dataframe\">\n",
       "  <thead>\n",
       "    <tr style=\"text-align: right;\">\n",
       "      <th></th>\n",
       "      <th>x_shift</th>\n",
       "      <th>y_shift</th>\n",
       "      <th>wavel</th>\n",
       "    </tr>\n",
       "  </thead>\n",
       "  <tbody>\n",
       "    <tr>\n",
       "      <th>0</th>\n",
       "      <td>2</td>\n",
       "      <td>3</td>\n",
       "      <td>2</td>\n",
       "    </tr>\n",
       "    <tr>\n",
       "      <th>1</th>\n",
       "      <td>2</td>\n",
       "      <td>3</td>\n",
       "      <td>2</td>\n",
       "    </tr>\n",
       "  </tbody>\n",
       "</table>\n",
       "</div>"
      ],
      "text/plain": [
       "   x_shift  y_shift  wavel\n",
       "0        2        3      2\n",
       "1        2        3      2"
      ]
     },
     "execution_count": 52,
     "metadata": {},
     "output_type": "execute_result"
    }
   ],
   "source": [
    "df"
   ]
  },
  {
   "cell_type": "code",
   "execution_count": 55,
   "id": "ad557d35",
   "metadata": {},
   "outputs": [
    {
     "name": "stdout",
     "output_type": "stream",
     "text": [
      "1375\n",
      "1725\n",
      "1230\n",
      "1660\n",
      "1070\n",
      "1420\n",
      "1135\n",
      "1565\n",
      "1695\n",
      "1380\n",
      "1115\n",
      "1545\n",
      "1050\n",
      "1400\n",
      "1210\n",
      "1640\n",
      "1355\n",
      "1705\n",
      "1590\n",
      "1085\n",
      "1250\n",
      "1600\n",
      "1315\n",
      "1745\n",
      "1180\n",
      "1495\n",
      "1285\n",
      "1155\n",
      "1505\n",
      "1010\n",
      "1440\n",
      "1030\n",
      "1460\n",
      "1175\n",
      "1525\n",
      "1335\n",
      "1270\n",
      "1620\n",
      "1555\n",
      "1105\n",
      "1410\n",
      "1040\n",
      "1685\n",
      "1390\n",
      "1580\n",
      "1095\n",
      "1650\n",
      "1200\n",
      "1715\n",
      "1345\n",
      "1735\n",
      "1365\n",
      "1670\n",
      "1220\n",
      "1430\n",
      "1060\n",
      "1575\n",
      "1125\n",
      "1470\n",
      "1020\n",
      "1535\n",
      "1165\n",
      "1325\n",
      "1630\n",
      "1260\n",
      "1190\n",
      "1485\n",
      "1610\n",
      "1240\n",
      "1305\n",
      "1515\n",
      "1145\n",
      "1450\n",
      "1295\n",
      "1310\n",
      "1740\n",
      "1255\n",
      "1605\n",
      "1490\n",
      "1185\n",
      "1280\n",
      "1015\n",
      "1445\n",
      "1150\n",
      "1500\n",
      "1170\n",
      "1520\n",
      "1035\n",
      "1465\n",
      "1275\n",
      "1625\n",
      "1330\n",
      "1235\n",
      "1665\n",
      "1370\n",
      "1720\n",
      "1130\n",
      "1560\n",
      "1075\n",
      "1425\n",
      "1385\n",
      "1690\n",
      "1055\n",
      "1405\n",
      "1110\n",
      "1540\n",
      "1350\n",
      "1700\n",
      "1215\n",
      "1645\n",
      "1080\n",
      "1595\n",
      "1530\n",
      "1160\n",
      "1475\n",
      "1025\n",
      "1635\n",
      "1265\n",
      "1320\n",
      "1480\n",
      "1195\n",
      "1750\n",
      "1300\n",
      "1615\n",
      "1245\n",
      "1455\n",
      "1005\n",
      "1510\n",
      "1140\n",
      "1290\n",
      "1415\n",
      "1045\n",
      "1550\n",
      "1100\n",
      "1395\n",
      "1680\n",
      "1090\n",
      "1585\n",
      "1710\n",
      "1340\n",
      "1655\n",
      "1205\n",
      "1675\n",
      "1225\n",
      "1730\n",
      "1360\n",
      "1570\n",
      "1120\n",
      "1435\n",
      "1065\n"
     ]
    }
   ],
   "source": [
    "height, width = dark.shape[:2]\n",
    "\n",
    "for file_num in range(0,len(file_list)):\n",
    "    \n",
    "    wavel_this = os.path.basename(file_list[file_num]).split('.fits')[0].split('_')[1]\n",
    "    \n",
    "    \n",
    "    array_this = fits.open(file_list[file_num])[0].data\n",
    "    \n",
    "    array_dark_subted = np.subtract(array_this,dark)\n",
    "    \n",
    "    # cross-correlate to see shift with respect to reference frame\n",
    "    corr = scipy.signal.correlate2d(ref_frame, array_this, boundary='symm', mode='same')\n",
    "    y_abs, x_abs = np.unravel_index(np.argmax(corr), corr.shape)  # y, x: tonight's image is displaced by this much from the reference\n",
    "    y_shift, x_shift = 0.5*height-y_abs,0.5*width-x_abs\n",
    "    \n",
    "    dict_info = {'x_shift':[x_shift],'y_shift':[y_shift],'wavel':[wavel_this]}\n",
    "    df_this = pd.DataFrame.from_dict(dict_info)\n",
    "    \n",
    "    df = pd.concat([df,df_this], ignore_index=True)\n",
    "    \n",
    "    plt.scatter([x_shift],[y_shift])\n",
    "    print(wavel_this)"
   ]
  },
  {
   "cell_type": "code",
   "execution_count": 58,
   "id": "038ed803",
   "metadata": {},
   "outputs": [],
   "source": [
    "df2 = df"
   ]
  },
  {
   "cell_type": "code",
   "execution_count": 60,
   "id": "b2d5beb5",
   "metadata": {},
   "outputs": [],
   "source": [
    "df1 = df2.drop([0,1])"
   ]
  },
  {
   "cell_type": "code",
   "execution_count": 64,
   "id": "1c6424a4",
   "metadata": {},
   "outputs": [],
   "source": [
    "df1.to_pickle('junk.pkl')"
   ]
  },
  {
   "cell_type": "code",
   "execution_count": 26,
   "id": "f0f01753",
   "metadata": {},
   "outputs": [
    {
     "name": "stderr",
     "output_type": "stream",
     "text": [
      "2023-06-12 13:09:17.504 python[17174:190486] +[CATransaction synchronize] called within transaction\n"
     ]
    }
   ],
   "source": [
    "plt.imshow(array_dark_subted, origin='lower')\n",
    "for key, xycoord  in rel_pos.items():\n",
    "    plt.scatter(xycoord[0],xycoord[1])\n",
    "    plt.annotate(key, xy=(xycoord))\n",
    "plt.show()"
   ]
  },
  {
   "cell_type": "code",
   "execution_count": 65,
   "id": "975866f6",
   "metadata": {},
   "outputs": [],
   "source": [
    "plt.imshow(array_dark_subted, origin='lower')\n",
    "plt.scatter(df1['x_shift'],df1['y_shift'])\n",
    "plt.show()"
   ]
  },
  {
   "cell_type": "code",
   "execution_count": null,
   "id": "97104107",
   "metadata": {},
   "outputs": [],
   "source": [
    "rel_pos = {'0':(39,81),\n",
    "           '1':(29,115),\n",
    "           '2':(38,113),\n",
    "           '3':(46,111),\n",
    "           '4':(23,108),\n",
    "           '5':(32,106),\n",
    "           '6':(40,105),\n",
    "           '7':(49,103),\n",
    "           '8':(17,101),\n",
    "           '9':(26,100),\n",
    "           '10':(34,98),\n",
    "           '11':(43,96),\n",
    "           '12':(51,94),\n",
    "           '13':(20,93),\n",
    "           '14':(28,91),\n",
    "           '15':(37,90),\n",
    "           '16':(45,88),\n",
    "           '17':(22,84),\n",
    "           '18':(31,83)}"
   ]
  },
  {
   "cell_type": "code",
   "execution_count": null,
   "id": "ecdc48a9",
   "metadata": {},
   "outputs": [],
   "source": [
    "# a test wavelength soln"
   ]
  },
  {
   "cell_type": "code",
   "execution_count": null,
   "id": "43feda95",
   "metadata": {},
   "outputs": [],
   "source": [
    "def func(X, a, b, c, d, f):\n",
    "    \n",
    "    x_pass, y_pass = X\n",
    "    \n",
    "    return a*x_pass + b*y_pass + c*x_pass*y_pass + d*np.power(x_pass,2.) + f*np.power(y_pass,2.)\n",
    "\n",
    "x = df1['x'].values\n",
    "y = df1['y'].values\n",
    "z = df1['wavel'].values\n",
    "\n",
    "# initial guesses for a,b,c:\n",
    "p0 = 1., 1., 1., 1., 1.\n",
    "fit_coeffs = curve_fit(func, (x,y), z, p0)"
   ]
  },
  {
   "cell_type": "code",
   "execution_count": null,
   "id": "a3f070cf",
   "metadata": {},
   "outputs": [],
   "source": [
    "# column of best-fit wavelength values\n",
    "\n",
    "df1['wavel_bestfit'] = func((x,y), fit_coeffs[0][0], fit_coeffs[0][1], fit_coeffs[0][2], \n",
    "                                     fit_coeffs[0][3], fit_coeffs[0][4])"
   ]
  },
  {
   "cell_type": "code",
   "execution_count": null,
   "id": "4288c6e1",
   "metadata": {},
   "outputs": [],
   "source": []
  }
 ],
 "metadata": {
  "kernelspec": {
   "display_name": "Python 3 (ipykernel)",
   "language": "python",
   "name": "python3"
  },
  "language_info": {
   "codemirror_mode": {
    "name": "ipython",
    "version": 3
   },
   "file_extension": ".py",
   "mimetype": "text/x-python",
   "name": "python",
   "nbconvert_exporter": "python",
   "pygments_lexer": "ipython3",
   "version": "3.9.16"
  }
 },
 "nbformat": 4,
 "nbformat_minor": 5
}
