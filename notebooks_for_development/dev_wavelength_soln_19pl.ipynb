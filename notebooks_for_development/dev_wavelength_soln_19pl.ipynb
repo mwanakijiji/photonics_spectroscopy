{
 "cells": [
  {
   "cell_type": "code",
   "execution_count": 1,
   "id": "d11b7478",
   "metadata": {},
   "outputs": [],
   "source": [
    "from astropy.io import fits\n",
    "import glob as glob\n",
    "import numpy as np\n",
    "import os\n",
    "import scipy\n",
    "import pandas as pd\n",
    "import matplotlib.pyplot as plt\n",
    "import pickle\n",
    "\n",
    "%matplotlib qt"
   ]
  },
  {
   "cell_type": "code",
   "execution_count": 2,
   "id": "ee09daa5",
   "metadata": {},
   "outputs": [],
   "source": [
    "# read in files, dark-subtract, populate wavelength array"
   ]
  },
  {
   "cell_type": "code",
   "execution_count": 3,
   "id": "aef6ecb6",
   "metadata": {},
   "outputs": [],
   "source": [
    "stem = '/Users/bandari/Documents/git.repos/photonics_spectroscopy/notebooks_for_development/data/19pl/raw/'"
   ]
  },
  {
   "cell_type": "code",
   "execution_count": 4,
   "id": "b009a1a5",
   "metadata": {},
   "outputs": [],
   "source": [
    "rel_pos = {'0':(39,81),\n",
    "           '1':(29,115),\n",
    "           '2':(38,113),\n",
    "           '3':(46,111),\n",
    "           '4':(23,108),\n",
    "           '5':(32,106),\n",
    "           '6':(40,105),\n",
    "           '7':(49,103),\n",
    "           '8':(17,101),\n",
    "           '9':(26,100),\n",
    "           '10':(34,98),\n",
    "           '11':(43,96),\n",
    "           '12':(51,94),\n",
    "           '13':(20,93),\n",
    "           '14':(28,91),\n",
    "           '15':(37,90),\n",
    "           '16':(45,88),\n",
    "           '17':(22,84),\n",
    "           '18':(31,83)}"
   ]
  },
  {
   "cell_type": "code",
   "execution_count": 5,
   "id": "25e1e604",
   "metadata": {},
   "outputs": [],
   "source": [
    "file_list = glob.glob(stem + '19PL_1*fits')"
   ]
  },
  {
   "cell_type": "code",
   "execution_count": 6,
   "id": "6e65c8a4",
   "metadata": {},
   "outputs": [],
   "source": [
    "# read in dark\n",
    "dark_apapane = stem + 'apapanedark.fits'\n",
    "dark = fits.open(dark_apapane)[0].data"
   ]
  },
  {
   "cell_type": "code",
   "execution_count": 7,
   "id": "f803733b",
   "metadata": {},
   "outputs": [],
   "source": [
    "# define reference frame (needs to have all ports visible on array)\n",
    "file_ref = fits.open(stem + '19PL_1180.fits')[0].data\n",
    "# dark-subt\n",
    "ref_frame = file_ref-dark"
   ]
  },
  {
   "cell_type": "code",
   "execution_count": 31,
   "id": "980c7fbb",
   "metadata": {},
   "outputs": [],
   "source": [
    "plt.imshow(array_ref)\n",
    "plt.show()"
   ]
  },
  {
   "cell_type": "code",
   "execution_count": 10,
   "id": "af234529",
   "metadata": {},
   "outputs": [],
   "source": [
    "df = pd.DataFrame()"
   ]
  },
  {
   "cell_type": "code",
   "execution_count": 11,
   "id": "d646f9ca",
   "metadata": {},
   "outputs": [],
   "source": [
    "dict_info = {'x_shift':[2],'y_shift':[3],'wavel':[2]}\n",
    "df_this = pd.DataFrame.from_dict(dict_info)"
   ]
  },
  {
   "cell_type": "code",
   "execution_count": 12,
   "id": "af0be88a",
   "metadata": {},
   "outputs": [
    {
     "data": {
      "text/html": [
       "<div>\n",
       "<style scoped>\n",
       "    .dataframe tbody tr th:only-of-type {\n",
       "        vertical-align: middle;\n",
       "    }\n",
       "\n",
       "    .dataframe tbody tr th {\n",
       "        vertical-align: top;\n",
       "    }\n",
       "\n",
       "    .dataframe thead th {\n",
       "        text-align: right;\n",
       "    }\n",
       "</style>\n",
       "<table border=\"1\" class=\"dataframe\">\n",
       "  <thead>\n",
       "    <tr style=\"text-align: right;\">\n",
       "      <th></th>\n",
       "      <th>x_shift</th>\n",
       "      <th>y_shift</th>\n",
       "      <th>wavel</th>\n",
       "    </tr>\n",
       "  </thead>\n",
       "  <tbody>\n",
       "    <tr>\n",
       "      <th>0</th>\n",
       "      <td>2</td>\n",
       "      <td>3</td>\n",
       "      <td>2</td>\n",
       "    </tr>\n",
       "  </tbody>\n",
       "</table>\n",
       "</div>"
      ],
      "text/plain": [
       "   x_shift  y_shift  wavel\n",
       "0        2        3      2"
      ]
     },
     "execution_count": 12,
     "metadata": {},
     "output_type": "execute_result"
    }
   ],
   "source": [
    "df_this"
   ]
  },
  {
   "cell_type": "code",
   "execution_count": 13,
   "id": "695b8d97",
   "metadata": {},
   "outputs": [],
   "source": [
    "df = pd.concat([df,df_this], ignore_index=True)"
   ]
  },
  {
   "cell_type": "code",
   "execution_count": 14,
   "id": "8f0db360",
   "metadata": {},
   "outputs": [
    {
     "data": {
      "text/html": [
       "<div>\n",
       "<style scoped>\n",
       "    .dataframe tbody tr th:only-of-type {\n",
       "        vertical-align: middle;\n",
       "    }\n",
       "\n",
       "    .dataframe tbody tr th {\n",
       "        vertical-align: top;\n",
       "    }\n",
       "\n",
       "    .dataframe thead th {\n",
       "        text-align: right;\n",
       "    }\n",
       "</style>\n",
       "<table border=\"1\" class=\"dataframe\">\n",
       "  <thead>\n",
       "    <tr style=\"text-align: right;\">\n",
       "      <th></th>\n",
       "      <th>x_shift</th>\n",
       "      <th>y_shift</th>\n",
       "      <th>wavel</th>\n",
       "    </tr>\n",
       "  </thead>\n",
       "  <tbody>\n",
       "    <tr>\n",
       "      <th>0</th>\n",
       "      <td>2</td>\n",
       "      <td>3</td>\n",
       "      <td>2</td>\n",
       "    </tr>\n",
       "  </tbody>\n",
       "</table>\n",
       "</div>"
      ],
      "text/plain": [
       "   x_shift  y_shift  wavel\n",
       "0        2        3      2"
      ]
     },
     "execution_count": 14,
     "metadata": {},
     "output_type": "execute_result"
    }
   ],
   "source": [
    "df"
   ]
  },
  {
   "cell_type": "code",
   "execution_count": 15,
   "id": "ad557d35",
   "metadata": {},
   "outputs": [
    {
     "name": "stdout",
     "output_type": "stream",
     "text": [
      "1375\n",
      "1725\n",
      "1230\n"
     ]
    },
    {
     "ename": "KeyboardInterrupt",
     "evalue": "",
     "output_type": "error",
     "traceback": [
      "\u001b[0;31m---------------------------------------------------------------------------\u001b[0m",
      "\u001b[0;31mKeyboardInterrupt\u001b[0m                         Traceback (most recent call last)",
      "Cell \u001b[0;32mIn[15], line 13\u001b[0m\n\u001b[1;32m     10\u001b[0m array_dark_subted \u001b[38;5;241m=\u001b[39m np\u001b[38;5;241m.\u001b[39msubtract(array_this,dark)\n\u001b[1;32m     12\u001b[0m \u001b[38;5;66;03m# cross-correlate to see shift with respect to reference frame\u001b[39;00m\n\u001b[0;32m---> 13\u001b[0m corr \u001b[38;5;241m=\u001b[39m \u001b[43mscipy\u001b[49m\u001b[38;5;241;43m.\u001b[39;49m\u001b[43msignal\u001b[49m\u001b[38;5;241;43m.\u001b[39;49m\u001b[43mcorrelate2d\u001b[49m\u001b[43m(\u001b[49m\u001b[43mref_frame\u001b[49m\u001b[43m,\u001b[49m\u001b[43m \u001b[49m\u001b[43marray_this\u001b[49m\u001b[43m,\u001b[49m\u001b[43m \u001b[49m\u001b[43mboundary\u001b[49m\u001b[38;5;241;43m=\u001b[39;49m\u001b[38;5;124;43m'\u001b[39;49m\u001b[38;5;124;43msymm\u001b[39;49m\u001b[38;5;124;43m'\u001b[39;49m\u001b[43m,\u001b[49m\u001b[43m \u001b[49m\u001b[43mmode\u001b[49m\u001b[38;5;241;43m=\u001b[39;49m\u001b[38;5;124;43m'\u001b[39;49m\u001b[38;5;124;43msame\u001b[39;49m\u001b[38;5;124;43m'\u001b[39;49m\u001b[43m)\u001b[49m\n\u001b[1;32m     14\u001b[0m y_abs, x_abs \u001b[38;5;241m=\u001b[39m np\u001b[38;5;241m.\u001b[39munravel_index(np\u001b[38;5;241m.\u001b[39margmax(corr), corr\u001b[38;5;241m.\u001b[39mshape)  \u001b[38;5;66;03m# y, x: tonight's image is displaced by this much from the reference\u001b[39;00m\n\u001b[1;32m     15\u001b[0m y_shift, x_shift \u001b[38;5;241m=\u001b[39m \u001b[38;5;241m0.5\u001b[39m\u001b[38;5;241m*\u001b[39mheight\u001b[38;5;241m-\u001b[39my_abs,\u001b[38;5;241m0.5\u001b[39m\u001b[38;5;241m*\u001b[39mwidth\u001b[38;5;241m-\u001b[39mx_abs\n",
      "File \u001b[0;32m~/anaconda3/envs/extract_env/lib/python3.9/site-packages/scipy/signal/_signaltools.py:1820\u001b[0m, in \u001b[0;36mcorrelate2d\u001b[0;34m(in1, in2, mode, boundary, fillvalue)\u001b[0m\n\u001b[1;32m   1818\u001b[0m val \u001b[38;5;241m=\u001b[39m _valfrommode(mode)\n\u001b[1;32m   1819\u001b[0m bval \u001b[38;5;241m=\u001b[39m _bvalfromboundary(boundary)\n\u001b[0;32m-> 1820\u001b[0m out \u001b[38;5;241m=\u001b[39m \u001b[43m_sigtools\u001b[49m\u001b[38;5;241;43m.\u001b[39;49m\u001b[43m_convolve2d\u001b[49m\u001b[43m(\u001b[49m\u001b[43min1\u001b[49m\u001b[43m,\u001b[49m\u001b[43m \u001b[49m\u001b[43min2\u001b[49m\u001b[38;5;241;43m.\u001b[39;49m\u001b[43mconj\u001b[49m\u001b[43m(\u001b[49m\u001b[43m)\u001b[49m\u001b[43m,\u001b[49m\u001b[43m \u001b[49m\u001b[38;5;241;43m0\u001b[39;49m\u001b[43m,\u001b[49m\u001b[43m \u001b[49m\u001b[43mval\u001b[49m\u001b[43m,\u001b[49m\u001b[43m \u001b[49m\u001b[43mbval\u001b[49m\u001b[43m,\u001b[49m\u001b[43m \u001b[49m\u001b[43mfillvalue\u001b[49m\u001b[43m)\u001b[49m\n\u001b[1;32m   1822\u001b[0m \u001b[38;5;28;01mif\u001b[39;00m swapped_inputs:\n\u001b[1;32m   1823\u001b[0m     out \u001b[38;5;241m=\u001b[39m out[::\u001b[38;5;241m-\u001b[39m\u001b[38;5;241m1\u001b[39m, ::\u001b[38;5;241m-\u001b[39m\u001b[38;5;241m1\u001b[39m]\n",
      "\u001b[0;31mKeyboardInterrupt\u001b[0m: "
     ]
    }
   ],
   "source": [
    "height, width = dark.shape[:2]\n",
    "\n",
    "for file_num in range(0,len(file_list)):\n",
    "    \n",
    "    wavel_this = os.path.basename(file_list[file_num]).split('.fits')[0].split('_')[1]\n",
    "    \n",
    "    \n",
    "    array_this = fits.open(file_list[file_num])[0].data\n",
    "    \n",
    "    array_dark_subted = np.subtract(array_this,dark)\n",
    "    \n",
    "    # cross-correlate to see shift with respect to reference frame\n",
    "    corr = scipy.signal.correlate2d(ref_frame, array_this, boundary='symm', mode='same')\n",
    "    y_abs, x_abs = np.unravel_index(np.argmax(corr), corr.shape)  # y, x: tonight's image is displaced by this much from the reference\n",
    "    y_shift, x_shift = 0.5*height-y_abs,0.5*width-x_abs\n",
    "    \n",
    "    dict_info = {'x_shift':[x_shift],'y_shift':[y_shift],'wavel':[wavel_this]}\n",
    "    df_this = pd.DataFrame.from_dict(dict_info)\n",
    "    \n",
    "    df = pd.concat([df,df_this], ignore_index=True)\n",
    "    \n",
    "    plt.scatter([x_shift],[y_shift])\n",
    "    print(wavel_this)"
   ]
  },
  {
   "cell_type": "code",
   "execution_count": 58,
   "id": "038ed803",
   "metadata": {},
   "outputs": [],
   "source": [
    "df2 = df"
   ]
  },
  {
   "cell_type": "code",
   "execution_count": 60,
   "id": "b2d5beb5",
   "metadata": {},
   "outputs": [],
   "source": [
    "df1 = df2.drop([0,1])"
   ]
  },
  {
   "cell_type": "code",
   "execution_count": 64,
   "id": "1c6424a4",
   "metadata": {},
   "outputs": [],
   "source": [
    "df1.to_pickle('junk.pkl')"
   ]
  },
  {
   "cell_type": "code",
   "execution_count": 26,
   "id": "f0f01753",
   "metadata": {},
   "outputs": [
    {
     "name": "stderr",
     "output_type": "stream",
     "text": [
      "2023-06-12 13:09:17.504 python[17174:190486] +[CATransaction synchronize] called within transaction\n"
     ]
    }
   ],
   "source": [
    "plt.imshow(array_dark_subted, origin='lower')\n",
    "for key, xycoord  in rel_pos.items():\n",
    "    plt.scatter(xycoord[0],xycoord[1])\n",
    "    plt.annotate(key, xy=(xycoord))\n",
    "plt.show()"
   ]
  },
  {
   "cell_type": "code",
   "execution_count": 65,
   "id": "975866f6",
   "metadata": {},
   "outputs": [],
   "source": [
    "plt.imshow(array_dark_subted, origin='lower')\n",
    "plt.scatter(df1['x_shift'],df1['y_shift'])\n",
    "plt.show()"
   ]
  },
  {
   "cell_type": "code",
   "execution_count": null,
   "id": "97104107",
   "metadata": {},
   "outputs": [],
   "source": [
    "rel_pos = {'0':(39,81),\n",
    "           '1':(29,115),\n",
    "           '2':(38,113),\n",
    "           '3':(46,111),\n",
    "           '4':(23,108),\n",
    "           '5':(32,106),\n",
    "           '6':(40,105),\n",
    "           '7':(49,103),\n",
    "           '8':(17,101),\n",
    "           '9':(26,100),\n",
    "           '10':(34,98),\n",
    "           '11':(43,96),\n",
    "           '12':(51,94),\n",
    "           '13':(20,93),\n",
    "           '14':(28,91),\n",
    "           '15':(37,90),\n",
    "           '16':(45,88),\n",
    "           '17':(22,84),\n",
    "           '18':(31,83)}"
   ]
  },
  {
   "cell_type": "code",
   "execution_count": null,
   "id": "ecdc48a9",
   "metadata": {},
   "outputs": [],
   "source": [
    "# a test wavelength soln"
   ]
  },
  {
   "cell_type": "code",
   "execution_count": null,
   "id": "43feda95",
   "metadata": {},
   "outputs": [],
   "source": [
    "def func(X, a, b, c, d, f):\n",
    "    \n",
    "    x_pass, y_pass = X\n",
    "    \n",
    "    return a*x_pass + b*y_pass + c*x_pass*y_pass + d*np.power(x_pass,2.) + f*np.power(y_pass,2.)\n",
    "\n",
    "x = df1['x'].values\n",
    "y = df1['y'].values\n",
    "z = df1['wavel'].values\n",
    "\n",
    "# initial guesses for a,b,c:\n",
    "p0 = 1., 1., 1., 1., 1.\n",
    "fit_coeffs = curve_fit(func, (x,y), z, p0)"
   ]
  },
  {
   "cell_type": "code",
   "execution_count": null,
   "id": "a3f070cf",
   "metadata": {},
   "outputs": [],
   "source": [
    "# column of best-fit wavelength values\n",
    "\n",
    "df1['wavel_bestfit'] = func((x,y), fit_coeffs[0][0], fit_coeffs[0][1], fit_coeffs[0][2], \n",
    "                                     fit_coeffs[0][3], fit_coeffs[0][4])"
   ]
  },
  {
   "cell_type": "code",
   "execution_count": null,
   "id": "4288c6e1",
   "metadata": {},
   "outputs": [],
   "source": []
  }
 ],
 "metadata": {
  "kernelspec": {
   "display_name": "Python 3 (ipykernel)",
   "language": "python",
   "name": "python3"
  },
  "language_info": {
   "codemirror_mode": {
    "name": "ipython",
    "version": 3
   },
   "file_extension": ".py",
   "mimetype": "text/x-python",
   "name": "python",
   "nbconvert_exporter": "python",
   "pygments_lexer": "ipython3",
   "version": "3.9.16"
  }
 },
 "nbformat": 4,
 "nbformat_minor": 5
}
