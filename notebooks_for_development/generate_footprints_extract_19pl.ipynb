{
 "cells": [
  {
   "cell_type": "code",
   "execution_count": null,
   "id": "f4f20842",
   "metadata": {},
   "outputs": [],
   "source": [
    "# makes footprints for 19-port PL"
   ]
  },
  {
   "cell_type": "code",
   "execution_count": 24,
   "id": "869be38a",
   "metadata": {},
   "outputs": [],
   "source": [
    "import glob as glob\n",
    "import os\n",
    "import numpy as np\n",
    "import matplotlib.pyplot as plt\n",
    "from astropy.io import fits\n",
    "from scipy.sparse.linalg import lsmr\n",
    "\n",
    "%matplotlib inline\n",
    "#%matplotlib qt"
   ]
  },
  {
   "cell_type": "code",
   "execution_count": 2,
   "id": "d21d08da",
   "metadata": {},
   "outputs": [],
   "source": [
    "stem = '/Users/bandari/Documents/git.repos/photonics_spectroscopy/notebooks_for_development/data/19pl/'"
   ]
  },
  {
   "cell_type": "code",
   "execution_count": 3,
   "id": "aa047dd4",
   "metadata": {},
   "outputs": [],
   "source": [
    "# read in a test frame / dark\n",
    "\n",
    "dark_apapane = stem + 'raw/apapanedark.fits'\n",
    "test_array = fits.open(dark_apapane)[0].data\n",
    "dark = test_array"
   ]
  },
  {
   "cell_type": "code",
   "execution_count": 4,
   "id": "efa2791c",
   "metadata": {},
   "outputs": [],
   "source": [
    "# read in a broadband frame\n",
    "\n",
    "raw_bb_frame_19pl = stem + 'dark_subted/19PL_bb_irnd1.0_optnd3.0.fits'\n",
    "bb_array = fits.open(raw_bb_frame_19pl)[0].data\n",
    "\n",
    "# dark subtract\n",
    "bb_array = np.subtract(bb_array,dark)"
   ]
  },
  {
   "cell_type": "code",
   "execution_count": 5,
   "id": "f488cad3",
   "metadata": {},
   "outputs": [],
   "source": [
    "# ersatz variance frame\n",
    "\n",
    "hdul = fits.open('./data/stacked.fits')\n",
    "test_data = hdul[0].data[0,:,:] # all 3 spectra\n",
    "array_variance = hdul[0].data[1,:,:]\n",
    "\n",
    "# replace zeros\n",
    "array_variance[array_variance == 0] = np.median(array_variance)"
   ]
  },
  {
   "cell_type": "code",
   "execution_count": 6,
   "id": "5165c005",
   "metadata": {},
   "outputs": [],
   "source": [
    "# relative positions of all the outputs \n",
    "# (can move around with a common offset in (x,y))\n",
    "\n",
    "rel_pos = {'0':(203,81),\n",
    "           '1':(193,115),\n",
    "           '2':(202,113),\n",
    "           '3':(210,111),\n",
    "           '4':(187,108),\n",
    "           '5':(196,106),\n",
    "           '6':(204,105),\n",
    "           '7':(213,103),\n",
    "           '8':(181,101),\n",
    "           '9':(190,100),\n",
    "           '10':(198,98),\n",
    "           '11':(207,96),\n",
    "           '12':(215,94),\n",
    "           '13':(184,93),\n",
    "           '14':(192,91),\n",
    "           '15':(201,90),\n",
    "           '16':(209,88),\n",
    "           '17':(186,84),\n",
    "           '18':(195,83)}"
   ]
  },
  {
   "cell_type": "code",
   "execution_count": 7,
   "id": "502f898c",
   "metadata": {},
   "outputs": [
    {
     "data": {
      "text/plain": [
       "'\\nfor key in rel_pos.values():\\n    plt.scatter(key[0],key[1])\\nplt.show()\\n'"
      ]
     },
     "execution_count": 7,
     "metadata": {},
     "output_type": "execute_result"
    }
   ],
   "source": [
    "'''\n",
    "for key in rel_pos.values():\n",
    "    plt.scatter(key[0],key[1])\n",
    "plt.show()\n",
    "'''"
   ]
  },
  {
   "cell_type": "code",
   "execution_count": 8,
   "id": "83ccd019",
   "metadata": {},
   "outputs": [],
   "source": [
    "# gaussian profile (kind of confusing: coordinates are (lambda, x), instead of (x,y) )\n",
    "def gaus1d(x_left, len_spec, x_pass, lambda_pass, mu_pass, sigma_pass=1):\n",
    "    '''\n",
    "    x_left: x coord of leftmost pixel of spectrum (y coord is assumed to be mu_pass)\n",
    "    len_spec: length of spectrum [pix]\n",
    "    x_pass: grid of y-coords in coord system of input\n",
    "    lambda_pass: grid of x-coords in coord system of input\n",
    "    mu_pass: profile center (in x_pass coords)\n",
    "    sigma_pass: profile width (in x_pass coords)\n",
    "    '''\n",
    "    \n",
    "    # condition for lambda axis to be inside footprint\n",
    "    lambda_cond = np.logical_and(lambda_pass >= x_left, lambda_pass < x_left+len_spec)\n",
    "    \n",
    "    #plt.imshow(lambda_cond)\n",
    "    #plt.show()\n",
    "    \n",
    "    # profile spanning entire array\n",
    "    profile = (1./(sigma_pass*np.sqrt(2.*np.pi))) * np.exp(-0.5 * np.power((x_pass-mu_pass)/sigma_pass,2.) )\n",
    "    \n",
    "    # mask regions where there is zero signal\n",
    "    profile *= lambda_cond\n",
    "    \n",
    "    # normalize columns of nonzero signal\n",
    "    profile = np.divide(profile, np.nanmax(profile))\n",
    "    \n",
    "    # restore regions of zero signal as zeros (instead of False)\n",
    "    profile[~lambda_cond] = 0.\n",
    "    \n",
    "    return profile"
   ]
  },
  {
   "cell_type": "code",
   "execution_count": 9,
   "id": "ae62a96b",
   "metadata": {},
   "outputs": [],
   "source": [
    "# wrapper make the enclosing profile of a spectrum\n",
    "\n",
    "def simple_profile(array_shape, x_left, y_left, len_spec, sigma_pass=1):\n",
    "    # make simple 1D Gaussian profile in x-direction\n",
    "    '''\n",
    "    shape_array: shape of array\n",
    "    x_left: x-coord of leftmost point of spectrum\n",
    "    y_left: y-coord of leftmost point of spectrum\n",
    "    len_spec: length of spectrum (in x-dir)\n",
    "    sigma_pass: sigma width of profile\n",
    "    '''\n",
    "    #(x_left, len_spec, x_pass, mu_pass, sigma_pass)\n",
    "    array_profile = np.zeros(array_shape)\n",
    "\n",
    "    xgrid, ygrid = np.meshgrid(np.arange(0,np.shape(array_profile)[1]),np.arange(0,np.shape(array_profile)[0]))\n",
    "    array_profile = gaus1d(x_left=x_left, len_spec=len_spec, x_pass=ygrid, lambda_pass=xgrid, mu_pass=y_left, sigma_pass=1)\n",
    "\n",
    "    #plt.imshow(array_profile)\n",
    "    #plt.show()\n",
    "    \n",
    "    # normalize it such that the marginalization in x (in (x,lambda) space) is 1\n",
    "    # (with a perfect Gaussian profile in x this is redundant)\n",
    "    \n",
    "    test2 = array_profile[:,x_left:x_left+len_spec]\n",
    "    \n",
    "    array_profile[:,x_left:x_left+len_spec] = np.divide(array_profile[:,x_left:x_left+len_spec],np.sum(array_profile[:,x_left:x_left+len_spec], axis=0))\n",
    "    \n",
    "    return array_profile"
   ]
  },
  {
   "cell_type": "code",
   "execution_count": 11,
   "id": "bfac62b7",
   "metadata": {},
   "outputs": [
    {
     "name": "stdout",
     "output_type": "stream",
     "text": [
      "0 (203, 81)\n",
      "1 (193, 115)\n",
      "2 (202, 113)\n",
      "3 (210, 111)\n",
      "4 (187, 108)\n",
      "5 (196, 106)\n",
      "6 (204, 105)\n",
      "7 (213, 103)\n",
      "8 (181, 101)\n",
      "9 (190, 100)\n",
      "10 (198, 98)\n",
      "11 (207, 96)\n",
      "12 (215, 94)\n",
      "13 (184, 93)\n",
      "14 (192, 91)\n",
      "15 (201, 90)\n",
      "16 (209, 88)\n",
      "17 (186, 84)\n",
      "18 (195, 83)\n"
     ]
    }
   ],
   "source": [
    "# make convas_array\n",
    "\n",
    "canvas_array = np.zeros(np.shape(test_array))\n",
    "\n",
    "x_offset = 17-181\n",
    "y_offset = -1\n",
    "\n",
    "dict_profiles = {}\n",
    "\n",
    "# loop over each spectrum's starting position\n",
    "#for coord_xy in rel_pos.values():\n",
    "for key, coord_xy in rel_pos.items():\n",
    "    \n",
    "    print(key, coord_xy)\n",
    "\n",
    "    profile_this_array = simple_profile(array_shape=np.shape(test_array), \n",
    "                                x_left=np.add(coord_xy[0],x_offset), \n",
    "                                y_left=np.add(coord_xy[1],y_offset), \n",
    "                                len_spec=8, \n",
    "                                sigma_pass=1)\n",
    "    \n",
    "    canvas_array += profile_this_array\n",
    "    \n",
    "    # save single profiles in an array\n",
    "    dict_profiles[key] = profile_this_array\n",
    "\n",
    "# check overlap is good\n",
    "plt.imshow(np.add((1e4)*canvas_array,bb_array), origin='lower')\n",
    "plt.savefig('junk_overlap.png')\n",
    "#plt.show()"
   ]
  },
  {
   "cell_type": "code",
   "execution_count": 12,
   "id": "8a6d7fbd",
   "metadata": {},
   "outputs": [],
   "source": [
    "# fake data for testing (just simple profiles)\n",
    "\n",
    "bb_fake = canvas_array"
   ]
  },
  {
   "cell_type": "code",
   "execution_count": 13,
   "id": "06ca5b7a",
   "metadata": {},
   "outputs": [],
   "source": [
    "plt.imshow(bb_fake)\n",
    "plt.show()"
   ]
  },
  {
   "cell_type": "code",
   "execution_count": 29,
   "id": "84628550",
   "metadata": {},
   "outputs": [],
   "source": [
    "# 19 spectra: compactified\n",
    "\n",
    "# define test data\n",
    "#D = bb_array\n",
    "D = bb_fake\n",
    "\n",
    "# extent of detector in x-dir\n",
    "x_extent = np.shape(test_array)[1]\n",
    "y_extent = np.shape(test_array)[0]\n",
    "\n",
    "# initialize dict to hold flux for each spectrum\n",
    "eta = {'0':np.zeros(x_extent),\n",
    "       '1':np.zeros(x_extent),\n",
    "       '2':np.zeros(x_extent),\n",
    "       '3':np.zeros(x_extent),\n",
    "       '4':np.zeros(x_extent),\n",
    "       '5':np.zeros(x_extent),\n",
    "       '6':np.zeros(x_extent),\n",
    "       '7':np.zeros(x_extent),\n",
    "       '8':np.zeros(x_extent),\n",
    "       '9':np.zeros(x_extent),\n",
    "       '10':np.zeros(x_extent),\n",
    "       '11':np.zeros(x_extent),\n",
    "       '12':np.zeros(x_extent),\n",
    "       '13':np.zeros(x_extent),\n",
    "       '14':np.zeros(x_extent),\n",
    "       '15':np.zeros(x_extent),\n",
    "       '16':np.zeros(x_extent),\n",
    "       '17':np.zeros(x_extent),\n",
    "       '18':np.zeros(x_extent)}\n",
    "\n",
    "\n",
    "# loop over cols\n",
    "for col in range(0,x_extent): \n",
    "    \n",
    "    # initialize matrix\n",
    "    c_mat = np.zeros((19,19), dtype='float')\n",
    "    b_mat = np.zeros((19), dtype='float')\n",
    "\n",
    "\n",
    "    # loop over pixels in col\n",
    "    for i in range(0,y_extent):\n",
    "        \n",
    "        for mat_row in range(0,len(dict_profiles)):\n",
    "            \n",
    "            for mat_col in range(0,len(dict_profiles)):\n",
    "    \n",
    "                c_mat[mat_row][mat_col] += dict_profiles[str(int(mat_row))][i,col] * dict_profiles[str(int(mat_col))][i,col] / array_variance[i,col]\n",
    "\n",
    "            # b_mat is just 1D, so use mat_row as index\n",
    "            b_mat[mat_row] += D[i,col] * dict_profiles[str(int(mat_row))][i,col] / array_variance[i,col]\n",
    "\n",
    "            '''\n",
    "            b_mat[1] += D[i,col] * dict_profiles['1'][i,col] / array_variance[i,col]\n",
    "\n",
    "            b_mat[2] += D[i,col] * dict_profiles['2'][i,col] / array_variance[i,col]\n",
    "\n",
    "            b_mat[3] += D[i,col] * dict_profiles['3'][i,col] / array_variance[i,col]\n",
    "\n",
    "            b_mat[4] += D[i,col] * dict_profiles['4'][i,col] / array_variance[i,col]\n",
    "\n",
    "            b_mat[5] += D[i,col] * dict_profiles['5'][i,col] / array_variance[i,col]\n",
    "\n",
    "            b_mat[6] += D[i,col] * dict_profiles['6'][i,col] / array_variance[i,col]\n",
    "\n",
    "            b_mat[7] += D[i,col] * dict_profiles['7'][i,col] / array_variance[i,col]\n",
    "\n",
    "            b_mat[8] += D[i,col] * dict_profiles['8'][i,col] / array_variance[i,col]\n",
    "\n",
    "            b_mat[9] += D[i,col] * dict_profiles['9'][i,col] / array_variance[i,col]\n",
    "\n",
    "            b_mat[10] += D[i,col] * dict_profiles['10'][i,col] / array_variance[i,col]\n",
    "\n",
    "            b_mat[11] += D[i,col] * dict_profiles['11'][i,col] / array_variance[i,col]\n",
    "\n",
    "            b_mat[12] += D[i,col] * dict_profiles['12'][i,col] / array_variance[i,col]\n",
    "\n",
    "            b_mat[13] += D[i,col] * dict_profiles['13'][i,col] / array_variance[i,col]\n",
    "\n",
    "            b_mat[14] += D[i,col] * dict_profiles['14'][i,col] / array_variance[i,col]\n",
    "\n",
    "            b_mat[15] += D[i,col] * dict_profiles['15'][i,col] / array_variance[i,col]\n",
    "\n",
    "            b_mat[16] += D[i,col] * dict_profiles['16'][i,col] / array_variance[i,col]\n",
    "\n",
    "            b_mat[17] += D[i,col] * dict_profiles['17'][i,col] / array_variance[i,col]\n",
    "\n",
    "            b_mat[18] += D[i,col] * dict_profiles['18'][i,col] / array_variance[i,col]\n",
    "            '''\n",
    "\n",
    "    # by symmetry\n",
    "    c_mat[1][0] = np.copy(c_mat[0][1])\n",
    "    c_mat[2][1] = np.copy(c_mat[1][2])\n",
    "    c_mat[3][2] = np.copy(c_mat[2][3])\n",
    "    c_mat[4][3] = np.copy(c_mat[3][4])\n",
    "    c_mat[5][4] = np.copy(c_mat[4][5])\n",
    "    c_mat[6][5] = np.copy(c_mat[5][4])\n",
    "    c_mat[7][6] = np.copy(c_mat[6][7])\n",
    "    c_mat[8][7] = np.copy(c_mat[7][8])\n",
    "    c_mat[9][8] = np.copy(c_mat[8][9])\n",
    "    c_mat[10][9] = np.copy(c_mat[9][10])\n",
    "    c_mat[11][10] = np.copy(c_mat[10][11])\n",
    "    c_mat[12][11] = np.copy(c_mat[11][12])\n",
    "    c_mat[13][12] = np.copy(c_mat[12][13])\n",
    "    c_mat[14][13] = np.copy(c_mat[13][14])\n",
    "    c_mat[15][14] = np.copy(c_mat[14][15])\n",
    "    c_mat[16][15] = np.copy(c_mat[15][16])\n",
    "    c_mat[17][16] = np.copy(c_mat[16][17])\n",
    "    c_mat[18][17] = np.copy(c_mat[17][18])\n",
    "    \n",
    "    #print(c_21)\n",
    "    #print(c_31)\n",
    "    \n",
    "    #plt.clf()\n",
    "    #c_mat_display = np.array([[c_11, c_12, c_13],[c_21, c_22, c_23],[c_31, c_32, c_33]])\n",
    "    #plt.imshow(c_mat_display, origin='lower')\n",
    "    #plt.show()\n",
    "    \n",
    "    # set off-diagonal vals to zero to make sparse\n",
    "    '''\n",
    "    c_21 = 0\n",
    "    c_12 = 0\n",
    "    c_13 = 0\n",
    "    c_31 = 0\n",
    "    c_23 = 0\n",
    "    c_32 = 0\n",
    "    '''\n",
    "    \n",
    "    #import ipdb; ipdb.set_trace()\n",
    "    \n",
    "    #plt.imshow(c_mat)\n",
    "    #plt.show()\n",
    "\n",
    "    \n",
    "    # solve for the following transform:\n",
    "    # x * c_mat = b_mat  -->  c_mat.T * x.T = b_mat.T\n",
    "    eta_mat_T, istop, itn, normr, normar, norma, conda, normx = \\\n",
    "               lsmr(c_mat.transpose(), b_mat.transpose())\n",
    "    \n",
    "    eta_mat =  eta_mat_T.transpose()\n",
    "    \n",
    "    for eta_num in range(0,len(eta)):\n",
    "        eta[str(eta_num)][col] = eta_mat[eta_num]"
   ]
  },
  {
   "cell_type": "code",
   "execution_count": 17,
   "id": "b6343c91",
   "metadata": {},
   "outputs": [
    {
     "data": {
      "text/plain": [
       "19"
      ]
     },
     "execution_count": 17,
     "metadata": {},
     "output_type": "execute_result"
    }
   ],
   "source": [
    "len(dict_profiles)"
   ]
  },
  {
   "cell_type": "code",
   "execution_count": 55,
   "id": "91449a04",
   "metadata": {},
   "outputs": [
    {
     "data": {
      "image/png": "[encoded data removed]",
      "text/plain": [
       "<Figure size 640x480 with 2 Axes>"
      ]
     },
     "metadata": {},
     "output_type": "display_data"
    }
   ],
   "source": [
    "plt.imshow(c_mat)\n",
    "plt.colorbar()\n",
    "plt.show()\n",
    "\n",
    "#eta\n",
    "#b_mat"
   ]
  },
  {
   "cell_type": "code",
   "execution_count": 31,
   "id": "3d3795df",
   "metadata": {},
   "outputs": [
    {
     "data": {
      "text/plain": [
       "array([], dtype=float64)"
      ]
     },
     "execution_count": 31,
     "metadata": {},
     "output_type": "execute_result"
    }
   ],
   "source": [
    "array_variance[~np.isfinite(array_variance)]"
   ]
  },
  {
   "cell_type": "code",
   "execution_count": 30,
   "id": "9520afc3",
   "metadata": {},
   "outputs": [
    {
     "data": {
      "image/png": "[encoded data removed]",
      "text/plain": [
       "<Figure size 640x480 with 1 Axes>"
      ]
     },
     "metadata": {},
     "output_type": "display_data"
    }
   ],
   "source": [
    "for i in range(0,len(eta)):\n",
    "    \n",
    "    plt.plot(np.add(eta[str(i)],0.1*i))\n",
    "    plt.annotate(str(i), (0,0.1*i), xytext=None)\n",
    "\n",
    "plt.savefig('junk_19specs2.png')\n",
    "plt.show()"
   ]
  },
  {
   "cell_type": "code",
   "execution_count": 16,
   "id": "19d12da0",
   "metadata": {},
   "outputs": [],
   "source": [
    "c_mat = np.zeros((19,19), dtype='float')"
   ]
  },
  {
   "cell_type": "code",
   "execution_count": 28,
   "id": "c1f17522",
   "metadata": {},
   "outputs": [],
   "source": [
    "for i in range(0,len(eta)):\n",
    "    \n",
    "    plt.plot(eta[str(i)])\n",
    "\n",
    "plt.show()"
   ]
  },
  {
   "cell_type": "code",
   "execution_count": 74,
   "id": "0307ee6a",
   "metadata": {},
   "outputs": [],
   "source": [
    "plt.imshow(bb_array, origin='lower')\n",
    "plt.show()"
   ]
  },
  {
   "cell_type": "code",
   "execution_count": null,
   "id": "cb289998",
   "metadata": {},
   "outputs": [],
   "source": []
  }
 ],
 "metadata": {
  "kernelspec": {
   "display_name": "Python 3 (ipykernel)",
   "language": "python",
   "name": "python3"
  },
  "language_info": {
   "codemirror_mode": {
    "name": "ipython",
    "version": 3
   },
   "file_extension": ".py",
   "mimetype": "text/x-python",
   "name": "python",
   "nbconvert_exporter": "python",
   "pygments_lexer": "ipython3",
   "version": "3.9.16"
  }
 },
 "nbformat": 4,
 "nbformat_minor": 5
}
