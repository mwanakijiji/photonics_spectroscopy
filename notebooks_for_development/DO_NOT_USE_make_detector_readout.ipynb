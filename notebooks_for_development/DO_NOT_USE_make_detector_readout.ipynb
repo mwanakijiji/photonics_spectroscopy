{
 "cells": [
  {
   "cell_type": "code",
   "execution_count": 1,
   "id": "d22f4aa1",
   "metadata": {},
   "outputs": [],
   "source": [
    "# Reads in stellar spectrum, packs it on top of a 2D array to make it seem like it's real"
   ]
  },
  {
   "cell_type": "code",
   "execution_count": 16,
   "id": "07464bc3",
   "metadata": {},
   "outputs": [],
   "source": [
    "import pandas as pd\n",
    "import numpy as np\n",
    "import matplotlib.pyplot as plt\n",
    "import scipy\n",
    "import pickle\n",
    "from astropy.io import fits\n",
    "from scipy.ndimage import gaussian_filter"
   ]
  },
  {
   "cell_type": "code",
   "execution_count": 17,
   "id": "363044b9",
   "metadata": {},
   "outputs": [],
   "source": [
    "# readout size\n",
    "\n",
    "x_size = 1000\n",
    "y_size = 21"
   ]
  },
  {
   "cell_type": "code",
   "execution_count": 18,
   "id": "878be12e",
   "metadata": {},
   "outputs": [],
   "source": [
    "stem_spec = '/Users/bandari/Documents/git.repos/rrlfe/src/model_spectra/rrmods_all/original_ascii_files'"
   ]
  },
  {
   "cell_type": "code",
   "execution_count": 19,
   "id": "ca3eabb2",
   "metadata": {},
   "outputs": [],
   "source": [
    "spec_fake = pd.read_csv(stem_spec + '/700020m30.smo', delim_whitespace=True, names=['wavel','flux','noise'])"
   ]
  },
  {
   "cell_type": "code",
   "execution_count": 20,
   "id": "5d69636f",
   "metadata": {},
   "outputs": [],
   "source": [
    "# normalize flux somehow\n",
    "norm_val = 1.\n",
    "spec_fake['flux_norm'] = norm_val*np.divide(spec_fake['flux'],np.max(spec_fake['flux']))"
   ]
  },
  {
   "cell_type": "code",
   "execution_count": 21,
   "id": "afaf4775",
   "metadata": {},
   "outputs": [
    {
     "data": {
      "text/plain": [
       "'\\n# option to print\\nplt.plot(spec_fake[\\'wavel\\'],spec_fake[\\'flux_norm\\'])\\nplt.xlabel(\"Wavelength (angstr)\")\\nplt.ylabel(\"Flux\")\\nplt.show()\\n#plt.savefig(\"truth.png\")\\n'"
      ]
     },
     "execution_count": 21,
     "metadata": {},
     "output_type": "execute_result"
    }
   ],
   "source": [
    "'''\n",
    "# option to print\n",
    "plt.plot(spec_fake['wavel'],spec_fake['flux_norm'])\n",
    "plt.xlabel(\"Wavelength (angstr)\")\n",
    "plt.ylabel(\"Flux\")\n",
    "plt.show()\n",
    "#plt.savefig(\"truth.png\")\n",
    "'''"
   ]
  },
  {
   "cell_type": "code",
   "execution_count": 22,
   "id": "5249a70f",
   "metadata": {},
   "outputs": [],
   "source": [
    "# OPTION 1: array of spectrum\n",
    "\n",
    "blank_2d = np.zeros((y_size,x_size)) #np.shape(flux_2d_perfect)\n",
    "spec_perfect = blank_2d\n",
    "spec_perfect[int(0.5*y_size),:] = np.array(spec_fake['flux_norm'])"
   ]
  },
  {
   "cell_type": "code",
   "execution_count": 23,
   "id": "18bc5e39",
   "metadata": {},
   "outputs": [],
   "source": [
    "# convolve with Gaussian\n",
    "\n",
    "spec_convolved = gaussian_filter(spec_perfect, sigma=5)"
   ]
  },
  {
   "cell_type": "code",
   "execution_count": 29,
   "id": "8f651329",
   "metadata": {},
   "outputs": [],
   "source": [
    "# small rotation\n",
    "\n",
    "test_rotate = scipy.ndimage.rotate(spec_convolved, angle=1, reshape=False)"
   ]
  },
  {
   "cell_type": "code",
   "execution_count": 30,
   "id": "3dc2d28e",
   "metadata": {},
   "outputs": [],
   "source": [
    "array_2d_w_spec = test_rotate"
   ]
  },
  {
   "cell_type": "code",
   "execution_count": 26,
   "id": "2d652864",
   "metadata": {},
   "outputs": [],
   "source": [
    "# pickle the 2D data array with the stellar spectrum\n",
    "\n",
    "# pickle stuff\n",
    "file_name_3 = \"junk_simulated_spectrum.pkl\"\n",
    "data_list = [array_2d_w_spec]\n",
    "open_file = open(file_name_3, \"wb\")\n",
    "pickle.dump(data_list, open_file)\n",
    "open_file.close()"
   ]
  }
 ],
 "metadata": {
  "kernelspec": {
   "display_name": "Python 3 (ipykernel)",
   "language": "python",
   "name": "python3"
  },
  "language_info": {
   "codemirror_mode": {
    "name": "ipython",
    "version": 3
   },
   "file_extension": ".py",
   "mimetype": "text/x-python",
   "name": "python",
   "nbconvert_exporter": "python",
   "pygments_lexer": "ipython3",
   "version": "3.9.16"
  }
 },
 "nbformat": 4,
 "nbformat_minor": 5
}
