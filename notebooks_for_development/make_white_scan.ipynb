{
 "cells": [
  {
   "cell_type": "code",
   "execution_count": 1,
   "id": "d22f4aa1",
   "metadata": {},
   "outputs": [],
   "source": [
    "# Reads in stellar spectrum, packs it on top of a 2D array to make it seem like it's real"
   ]
  },
  {
   "cell_type": "code",
   "execution_count": 1,
   "id": "07464bc3",
   "metadata": {},
   "outputs": [],
   "source": [
    "import pandas as pd\n",
    "import numpy as np\n",
    "import matplotlib.pyplot as plt\n",
    "import scipy\n",
    "import pickle\n",
    "from astropy.io import fits\n",
    "from scipy.ndimage import gaussian_filter"
   ]
  },
  {
   "cell_type": "code",
   "execution_count": 2,
   "id": "878be12e",
   "metadata": {},
   "outputs": [],
   "source": [
    "stem_spec = '/Users/bandari/Documents/git.repos/rrlfe/src/model_spectra/rrmods_all/original_ascii_files'"
   ]
  },
  {
   "cell_type": "code",
   "execution_count": 3,
   "id": "ca3eabb2",
   "metadata": {},
   "outputs": [],
   "source": [
    "spec_fake = pd.read_csv(stem_spec + '/700020m30.smo', delim_whitespace=True, names=['wavel','flux','noise'])"
   ]
  },
  {
   "cell_type": "code",
   "execution_count": 4,
   "id": "5d69636f",
   "metadata": {},
   "outputs": [],
   "source": [
    "# normalize flux somehow\n",
    "norm_val = 1.\n",
    "spec_fake['flux_norm'] = norm_val*np.divide(spec_fake['flux'],np.max(spec_fake['flux']))"
   ]
  },
  {
   "cell_type": "code",
   "execution_count": 6,
   "id": "73679f71",
   "metadata": {},
   "outputs": [
    {
     "ename": "IndexError",
     "evalue": "index 500 is out of bounds for axis 0 with size 38",
     "output_type": "error",
     "traceback": [
      "\u001b[0;31m---------------------------------------------------------------------------\u001b[0m",
      "\u001b[0;31mIndexError\u001b[0m                                Traceback (most recent call last)",
      "Cell \u001b[0;32mIn[6], line 27\u001b[0m\n\u001b[1;32m     24\u001b[0m spec_perfect \u001b[38;5;241m=\u001b[39m blank_2d\n\u001b[1;32m     26\u001b[0m \u001b[38;5;66;03m# a white light spectrum\u001b[39;00m\n\u001b[0;32m---> 27\u001b[0m spec_perfect[\u001b[38;5;28mint\u001b[39m(\u001b[38;5;241m0.5\u001b[39m\u001b[38;5;241m*\u001b[39my_detec_size),t\u001b[38;5;241m*\u001b[39mstep_wavel:(t\u001b[38;5;241m+\u001b[39m\u001b[38;5;241m1\u001b[39m)\u001b[38;5;241m*\u001b[39mstep_wavel] \u001b[38;5;241m=\u001b[39m norm_val\u001b[38;5;241m*\u001b[39mnp\u001b[38;5;241m.\u001b[39mones(\u001b[38;5;28mlen\u001b[39m(spec_fake[\u001b[38;5;124m'\u001b[39m\u001b[38;5;124mflux_norm\u001b[39m\u001b[38;5;124m'\u001b[39m]))[t\u001b[38;5;241m*\u001b[39mstep_wavel:(t\u001b[38;5;241m+\u001b[39m\u001b[38;5;241m1\u001b[39m)\u001b[38;5;241m*\u001b[39mstep_wavel]\n\u001b[1;32m     29\u001b[0m blank_2d \u001b[38;5;241m=\u001b[39m np\u001b[38;5;241m.\u001b[39mzeros((\u001b[38;5;241m21\u001b[39m,\u001b[38;5;241m1000\u001b[39m)) \u001b[38;5;66;03m#np.shape(flux_2d_perfect)\u001b[39;00m\n\u001b[1;32m     30\u001b[0m spec_perfect \u001b[38;5;241m=\u001b[39m blank_2d\n",
      "\u001b[0;31mIndexError\u001b[0m: index 500 is out of bounds for axis 0 with size 38"
     ]
    }
   ],
   "source": [
    "# make cubes of command-response pairs\n",
    "\n",
    "N_cmd = 100\n",
    "step_wavel = int(1000/N_cmd) # step size of impulse on detector, in pixels\n",
    "x_detec_size = 38\n",
    "y_detec_size = 1000\n",
    "\n",
    "N_pixels = x_detec_size*y_detec_size\n",
    "cube_w_step_impulse = np.zeros((100,x_detec_size,y_detec_size))\n",
    "cube_w_commands = np.zeros((N_cmd,N_cmd))\n",
    "\n",
    "M_basis_set_cmds = N_cmd\n",
    "poke_matrix = np.zeros((N_pixels,M_basis_set_cmds))\n",
    "\n",
    "for t in range(0,N_cmd):\n",
    "    \n",
    "    vec_command = np.zeros(N_cmd)\n",
    "    \n",
    "    # update command vector\n",
    "    vec_command[t] = 1\n",
    "    \n",
    "    # make the fake responses\n",
    "    blank_2d = np.zeros((x_detec_size,1000))\n",
    "    spec_perfect = blank_2d\n",
    "   \n",
    "    # a white light spectrum\n",
    "    spec_perfect[int(0.5*y_detec_size),t*step_wavel:(t+1)*step_wavel] = norm_val*np.ones(len(spec_fake['flux_norm']))[t*step_wavel:(t+1)*step_wavel]\n",
    "\n",
    "    blank_2d = np.zeros((21,1000)) #np.shape(flux_2d_perfect)\n",
    "    spec_perfect = blank_2d\n",
    "    spec_perfect[int(0.5*y_detec_size),:] = norm_val*np.ones(len(spec_fake['flux_norm']))\n",
    "    \n",
    "    spec_perfect[:,:t*(int(y_detec_size/N_cmd))] = 0\n",
    "    spec_perfect[:,(t+1)*int(y_detec_size/N_cmd):] = 0\n",
    "    \n",
    "    spec_convolved = gaussian_filter(spec_perfect, sigma=5)\n",
    "\n",
    "    test_rotate = scipy.ndimage.rotate(spec_convolved, angle=1, reshape=False)\n",
    "\n",
    "    plt.imshow(test_rotate)\n",
    "    plt.show()\n",
    "    \n",
    "    '''\n",
    "    # noisy background\n",
    "    array_2d_substrate = 0.01*np.random.normal(size=(x_detec_size,y_detec_size))\n",
    "    '''\n",
    "    # no noise\n",
    "    #array_2d_substrate = np.zeros((x_detec_size,y_detec_size))\n",
    "    \n",
    "    array_2d_w_spec = test_rotate\n",
    "    \n",
    "    test_response = np.copy(array_2d_w_spec) # cosmetic\n",
    "    \n",
    "    # accumulate flattened responses\n",
    "    flattened = test_response.flatten()\n",
    "\n",
    "    # each column is one 'poke', and the elements are the response function\n",
    "    poke_matrix[:,t] = flattened\n",
    "    #poke_matrix[i,:] = flattened\n",
    "    \n",
    "    '''\n",
    "    plt.imshow(array_2d_w_spec)\n",
    "    plt.show()\n",
    "    '''\n",
    "\n",
    "    # add commands to cube\n",
    "    cube_w_commands[t,:] = vec_command\n",
    "    \n",
    "    # add frame to cube\n",
    "    cube_w_step_impulse[t,:,:] = array_2d_w_spec"
   ]
  },
  {
   "cell_type": "code",
   "execution_count": 6,
   "id": "b0d12abf",
   "metadata": {},
   "outputs": [],
   "source": [
    "# pseudoinverse: the instrument response matrix\n",
    "response_matrix = np.linalg.pinv(poke_matrix)"
   ]
  },
  {
   "cell_type": "code",
   "execution_count": 16,
   "id": "d8840a10",
   "metadata": {},
   "outputs": [],
   "source": [
    "# option to write to FITS\n",
    "'''\n",
    "hdu = fits.PrimaryHDU(cube_w_step_impulse)\n",
    "hdul = fits.HDUList([hdu])\n",
    "hdul.writeto('junk_poke_white_light_no_noise_small_footprint.fits')\n",
    "'''"
   ]
  },
  {
   "cell_type": "code",
   "execution_count": 7,
   "id": "b416614d",
   "metadata": {},
   "outputs": [],
   "source": [
    "test_response = cube_w_step_impulse\n",
    "test_cmds = cube_w_commands\n",
    "response_matrix = response_matrix\n",
    "\n",
    "# option to pickle\n",
    "data_list = [response_matrix, test_cmds, test_response]\n",
    "file_name = \"junk_white_light_no_noise_small_footprint.pkl\"\n",
    "open_file = open(file_name, \"wb\")\n",
    "pickle.dump(data_list, open_file)\n",
    "open_file.close()"
   ]
  },
  {
   "cell_type": "code",
   "execution_count": null,
   "id": "90812a88",
   "metadata": {},
   "outputs": [],
   "source": []
  }
 ],
 "metadata": {
  "kernelspec": {
   "display_name": "Python 3 (ipykernel)",
   "language": "python",
   "name": "python3"
  },
  "language_info": {
   "codemirror_mode": {
    "name": "ipython",
    "version": 3
   },
   "file_extension": ".py",
   "mimetype": "text/x-python",
   "name": "python",
   "nbconvert_exporter": "python",
   "pygments_lexer": "ipython3",
   "version": "3.9.16"
  }
 },
 "nbformat": 4,
 "nbformat_minor": 5
}
