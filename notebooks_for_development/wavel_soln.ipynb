{
 "cells": [
  {
   "cell_type": "code",
   "execution_count": 1,
   "id": "a89ca4d5",
   "metadata": {},
   "outputs": [],
   "source": [
    "#from astropy.io import fits\n",
    "import numpy as np\n",
    "#import glob\n",
    "#import os\n",
    "import pickle\n",
    "import matplotlib.pyplot as plt\n",
    "import astropy\n",
    "import pandas as pd\n",
    "#from astropy.io import fits\n",
    "from scipy.optimize import curve_fit\n",
    "\n",
    "from photutils.centroids import (centroid_1dg, centroid_2dg,\n",
    "                                 centroid_com, centroid_quadratic)\n",
    "\n",
    "%matplotlib qt"
   ]
  },
  {
   "cell_type": "code",
   "execution_count": 2,
   "id": "8099ab22",
   "metadata": {},
   "outputs": [],
   "source": [
    "# retrieve processed data arrays from pickle files\n",
    "\n",
    "# single fiber\n",
    "file = open('yoo_jung_single.pkl', 'rb')\n",
    "dict_single = pickle.load(file)\n",
    "file.close()\n",
    "\n",
    "# 3 photonic lantern\n",
    "file = open('yoo_jung_3PL.pkl', 'rb')\n",
    "dict_3PL = pickle.load(file)\n",
    "file.close()\n",
    "\n",
    "# broadband image\n",
    "file = open('yoo_jung_broadband.pkl', 'rb')\n",
    "dict_broadband = pickle.load(file)\n",
    "file.close()"
   ]
  },
  {
   "cell_type": "code",
   "execution_count": 3,
   "id": "240d2821",
   "metadata": {},
   "outputs": [],
   "source": [
    "# retrieve centroids as fcn of wavelength\n",
    "\n",
    "file = open('single_wavel_centroids.pkl', 'rb')\n",
    "dict_centroids = pickle.load(file)\n",
    "file.close()"
   ]
  },
  {
   "cell_type": "code",
   "execution_count": 4,
   "id": "53b5810d",
   "metadata": {},
   "outputs": [
    {
     "name": "stderr",
     "output_type": "stream",
     "text": [
      "/var/folders/8y/ztvmc5ys1pn64bjywt1qp4k40000gs/T/ipykernel_7020/2637175356.py:9: FutureWarning: The frame.append method is deprecated and will be removed from pandas in a future version. Use pandas.concat instead.\n",
      "  df_centroids = df_centroids.append(dict_this, ignore_index=True)\n",
      "/var/folders/8y/ztvmc5ys1pn64bjywt1qp4k40000gs/T/ipykernel_7020/2637175356.py:9: FutureWarning: The frame.append method is deprecated and will be removed from pandas in a future version. Use pandas.concat instead.\n",
      "  df_centroids = df_centroids.append(dict_this, ignore_index=True)\n",
      "/var/folders/8y/ztvmc5ys1pn64bjywt1qp4k40000gs/T/ipykernel_7020/2637175356.py:9: FutureWarning: The frame.append method is deprecated and will be removed from pandas in a future version. Use pandas.concat instead.\n",
      "  df_centroids = df_centroids.append(dict_this, ignore_index=True)\n",
      "/var/folders/8y/ztvmc5ys1pn64bjywt1qp4k40000gs/T/ipykernel_7020/2637175356.py:9: FutureWarning: The frame.append method is deprecated and will be removed from pandas in a future version. Use pandas.concat instead.\n",
      "  df_centroids = df_centroids.append(dict_this, ignore_index=True)\n",
      "/var/folders/8y/ztvmc5ys1pn64bjywt1qp4k40000gs/T/ipykernel_7020/2637175356.py:9: FutureWarning: The frame.append method is deprecated and will be removed from pandas in a future version. Use pandas.concat instead.\n",
      "  df_centroids = df_centroids.append(dict_this, ignore_index=True)\n",
      "/var/folders/8y/ztvmc5ys1pn64bjywt1qp4k40000gs/T/ipykernel_7020/2637175356.py:9: FutureWarning: The frame.append method is deprecated and will be removed from pandas in a future version. Use pandas.concat instead.\n",
      "  df_centroids = df_centroids.append(dict_this, ignore_index=True)\n",
      "/var/folders/8y/ztvmc5ys1pn64bjywt1qp4k40000gs/T/ipykernel_7020/2637175356.py:9: FutureWarning: The frame.append method is deprecated and will be removed from pandas in a future version. Use pandas.concat instead.\n",
      "  df_centroids = df_centroids.append(dict_this, ignore_index=True)\n",
      "/var/folders/8y/ztvmc5ys1pn64bjywt1qp4k40000gs/T/ipykernel_7020/2637175356.py:9: FutureWarning: The frame.append method is deprecated and will be removed from pandas in a future version. Use pandas.concat instead.\n",
      "  df_centroids = df_centroids.append(dict_this, ignore_index=True)\n",
      "/var/folders/8y/ztvmc5ys1pn64bjywt1qp4k40000gs/T/ipykernel_7020/2637175356.py:9: FutureWarning: The frame.append method is deprecated and will be removed from pandas in a future version. Use pandas.concat instead.\n",
      "  df_centroids = df_centroids.append(dict_this, ignore_index=True)\n",
      "/var/folders/8y/ztvmc5ys1pn64bjywt1qp4k40000gs/T/ipykernel_7020/2637175356.py:9: FutureWarning: The frame.append method is deprecated and will be removed from pandas in a future version. Use pandas.concat instead.\n",
      "  df_centroids = df_centroids.append(dict_this, ignore_index=True)\n",
      "/var/folders/8y/ztvmc5ys1pn64bjywt1qp4k40000gs/T/ipykernel_7020/2637175356.py:9: FutureWarning: The frame.append method is deprecated and will be removed from pandas in a future version. Use pandas.concat instead.\n",
      "  df_centroids = df_centroids.append(dict_this, ignore_index=True)\n",
      "/var/folders/8y/ztvmc5ys1pn64bjywt1qp4k40000gs/T/ipykernel_7020/2637175356.py:9: FutureWarning: The frame.append method is deprecated and will be removed from pandas in a future version. Use pandas.concat instead.\n",
      "  df_centroids = df_centroids.append(dict_this, ignore_index=True)\n",
      "/var/folders/8y/ztvmc5ys1pn64bjywt1qp4k40000gs/T/ipykernel_7020/2637175356.py:9: FutureWarning: The frame.append method is deprecated and will be removed from pandas in a future version. Use pandas.concat instead.\n",
      "  df_centroids = df_centroids.append(dict_this, ignore_index=True)\n",
      "/var/folders/8y/ztvmc5ys1pn64bjywt1qp4k40000gs/T/ipykernel_7020/2637175356.py:9: FutureWarning: The frame.append method is deprecated and will be removed from pandas in a future version. Use pandas.concat instead.\n",
      "  df_centroids = df_centroids.append(dict_this, ignore_index=True)\n",
      "/var/folders/8y/ztvmc5ys1pn64bjywt1qp4k40000gs/T/ipykernel_7020/2637175356.py:9: FutureWarning: The frame.append method is deprecated and will be removed from pandas in a future version. Use pandas.concat instead.\n",
      "  df_centroids = df_centroids.append(dict_this, ignore_index=True)\n",
      "/var/folders/8y/ztvmc5ys1pn64bjywt1qp4k40000gs/T/ipykernel_7020/2637175356.py:9: FutureWarning: The frame.append method is deprecated and will be removed from pandas in a future version. Use pandas.concat instead.\n",
      "  df_centroids = df_centroids.append(dict_this, ignore_index=True)\n",
      "/var/folders/8y/ztvmc5ys1pn64bjywt1qp4k40000gs/T/ipykernel_7020/2637175356.py:9: FutureWarning: The frame.append method is deprecated and will be removed from pandas in a future version. Use pandas.concat instead.\n",
      "  df_centroids = df_centroids.append(dict_this, ignore_index=True)\n",
      "/var/folders/8y/ztvmc5ys1pn64bjywt1qp4k40000gs/T/ipykernel_7020/2637175356.py:9: FutureWarning: The frame.append method is deprecated and will be removed from pandas in a future version. Use pandas.concat instead.\n",
      "  df_centroids = df_centroids.append(dict_this, ignore_index=True)\n",
      "/var/folders/8y/ztvmc5ys1pn64bjywt1qp4k40000gs/T/ipykernel_7020/2637175356.py:9: FutureWarning: The frame.append method is deprecated and will be removed from pandas in a future version. Use pandas.concat instead.\n",
      "  df_centroids = df_centroids.append(dict_this, ignore_index=True)\n",
      "/var/folders/8y/ztvmc5ys1pn64bjywt1qp4k40000gs/T/ipykernel_7020/2637175356.py:9: FutureWarning: The frame.append method is deprecated and will be removed from pandas in a future version. Use pandas.concat instead.\n",
      "  df_centroids = df_centroids.append(dict_this, ignore_index=True)\n",
      "/var/folders/8y/ztvmc5ys1pn64bjywt1qp4k40000gs/T/ipykernel_7020/2637175356.py:9: FutureWarning: The frame.append method is deprecated and will be removed from pandas in a future version. Use pandas.concat instead.\n",
      "  df_centroids = df_centroids.append(dict_this, ignore_index=True)\n",
      "/var/folders/8y/ztvmc5ys1pn64bjywt1qp4k40000gs/T/ipykernel_7020/2637175356.py:9: FutureWarning: The frame.append method is deprecated and will be removed from pandas in a future version. Use pandas.concat instead.\n",
      "  df_centroids = df_centroids.append(dict_this, ignore_index=True)\n",
      "/var/folders/8y/ztvmc5ys1pn64bjywt1qp4k40000gs/T/ipykernel_7020/2637175356.py:9: FutureWarning: The frame.append method is deprecated and will be removed from pandas in a future version. Use pandas.concat instead.\n",
      "  df_centroids = df_centroids.append(dict_this, ignore_index=True)\n",
      "/var/folders/8y/ztvmc5ys1pn64bjywt1qp4k40000gs/T/ipykernel_7020/2637175356.py:9: FutureWarning: The frame.append method is deprecated and will be removed from pandas in a future version. Use pandas.concat instead.\n",
      "  df_centroids = df_centroids.append(dict_this, ignore_index=True)\n",
      "/var/folders/8y/ztvmc5ys1pn64bjywt1qp4k40000gs/T/ipykernel_7020/2637175356.py:9: FutureWarning: The frame.append method is deprecated and will be removed from pandas in a future version. Use pandas.concat instead.\n",
      "  df_centroids = df_centroids.append(dict_this, ignore_index=True)\n",
      "/var/folders/8y/ztvmc5ys1pn64bjywt1qp4k40000gs/T/ipykernel_7020/2637175356.py:9: FutureWarning: The frame.append method is deprecated and will be removed from pandas in a future version. Use pandas.concat instead.\n",
      "  df_centroids = df_centroids.append(dict_this, ignore_index=True)\n",
      "/var/folders/8y/ztvmc5ys1pn64bjywt1qp4k40000gs/T/ipykernel_7020/2637175356.py:9: FutureWarning: The frame.append method is deprecated and will be removed from pandas in a future version. Use pandas.concat instead.\n",
      "  df_centroids = df_centroids.append(dict_this, ignore_index=True)\n",
      "/var/folders/8y/ztvmc5ys1pn64bjywt1qp4k40000gs/T/ipykernel_7020/2637175356.py:9: FutureWarning: The frame.append method is deprecated and will be removed from pandas in a future version. Use pandas.concat instead.\n",
      "  df_centroids = df_centroids.append(dict_this, ignore_index=True)\n",
      "/var/folders/8y/ztvmc5ys1pn64bjywt1qp4k40000gs/T/ipykernel_7020/2637175356.py:9: FutureWarning: The frame.append method is deprecated and will be removed from pandas in a future version. Use pandas.concat instead.\n",
      "  df_centroids = df_centroids.append(dict_this, ignore_index=True)\n",
      "/var/folders/8y/ztvmc5ys1pn64bjywt1qp4k40000gs/T/ipykernel_7020/2637175356.py:9: FutureWarning: The frame.append method is deprecated and will be removed from pandas in a future version. Use pandas.concat instead.\n",
      "  df_centroids = df_centroids.append(dict_this, ignore_index=True)\n",
      "/var/folders/8y/ztvmc5ys1pn64bjywt1qp4k40000gs/T/ipykernel_7020/2637175356.py:9: FutureWarning: The frame.append method is deprecated and will be removed from pandas in a future version. Use pandas.concat instead.\n",
      "  df_centroids = df_centroids.append(dict_this, ignore_index=True)\n",
      "/var/folders/8y/ztvmc5ys1pn64bjywt1qp4k40000gs/T/ipykernel_7020/2637175356.py:9: FutureWarning: The frame.append method is deprecated and will be removed from pandas in a future version. Use pandas.concat instead.\n",
      "  df_centroids = df_centroids.append(dict_this, ignore_index=True)\n",
      "/var/folders/8y/ztvmc5ys1pn64bjywt1qp4k40000gs/T/ipykernel_7020/2637175356.py:9: FutureWarning: The frame.append method is deprecated and will be removed from pandas in a future version. Use pandas.concat instead.\n",
      "  df_centroids = df_centroids.append(dict_this, ignore_index=True)\n",
      "/var/folders/8y/ztvmc5ys1pn64bjywt1qp4k40000gs/T/ipykernel_7020/2637175356.py:9: FutureWarning: The frame.append method is deprecated and will be removed from pandas in a future version. Use pandas.concat instead.\n",
      "  df_centroids = df_centroids.append(dict_this, ignore_index=True)\n",
      "/var/folders/8y/ztvmc5ys1pn64bjywt1qp4k40000gs/T/ipykernel_7020/2637175356.py:9: FutureWarning: The frame.append method is deprecated and will be removed from pandas in a future version. Use pandas.concat instead.\n",
      "  df_centroids = df_centroids.append(dict_this, ignore_index=True)\n",
      "/var/folders/8y/ztvmc5ys1pn64bjywt1qp4k40000gs/T/ipykernel_7020/2637175356.py:9: FutureWarning: The frame.append method is deprecated and will be removed from pandas in a future version. Use pandas.concat instead.\n",
      "  df_centroids = df_centroids.append(dict_this, ignore_index=True)\n",
      "/var/folders/8y/ztvmc5ys1pn64bjywt1qp4k40000gs/T/ipykernel_7020/2637175356.py:9: FutureWarning: The frame.append method is deprecated and will be removed from pandas in a future version. Use pandas.concat instead.\n",
      "  df_centroids = df_centroids.append(dict_this, ignore_index=True)\n",
      "/var/folders/8y/ztvmc5ys1pn64bjywt1qp4k40000gs/T/ipykernel_7020/2637175356.py:9: FutureWarning: The frame.append method is deprecated and will be removed from pandas in a future version. Use pandas.concat instead.\n",
      "  df_centroids = df_centroids.append(dict_this, ignore_index=True)\n"
     ]
    }
   ],
   "source": [
    "# convert to DataFrame \n",
    "\n",
    "df_centroids = pd.DataFrame(columns=['wavel','x','y'])\n",
    "\n",
    "for key, val in dict_centroids.items():\n",
    "    \n",
    "    dict_this = {'wavel':float(key),'x':val[0],'y':val[1]}\n",
    "    \n",
    "    df_centroids = df_centroids.append(dict_this, ignore_index=True)"
   ]
  },
  {
   "cell_type": "code",
   "execution_count": 6,
   "id": "db9e6b06",
   "metadata": {},
   "outputs": [],
   "source": [
    "def func(X, a, b, c, d, f):\n",
    "    \n",
    "    x_pass, y_pass = X\n",
    "    \n",
    "    return a*x_pass + b*y_pass + c*x_pass*y_pass + d*np.power(x_pass,2.) + f*np.power(y_pass,2.)\n",
    "\n",
    "x = df_centroids['x'].values\n",
    "y = df_centroids['y'].values\n",
    "z = df_centroids['wavel'].values\n",
    "\n",
    "# initial guesses for a,b,c:\n",
    "p0 = 1., 1., 1., 1., 1.\n",
    "fit_coeffs = curve_fit(func, (x,y), z, p0)"
   ]
  },
  {
   "cell_type": "code",
   "execution_count": 7,
   "id": "76614439",
   "metadata": {},
   "outputs": [],
   "source": [
    "# column of best-fit wavelength values\n",
    "\n",
    "df_centroids['wavel_bestfit'] = func((x,y), fit_coeffs[0][0], fit_coeffs[0][1], fit_coeffs[0][2], \n",
    "                                     fit_coeffs[0][3], fit_coeffs[0][4])"
   ]
  },
  {
   "cell_type": "code",
   "execution_count": 8,
   "id": "ecf4f51f",
   "metadata": {},
   "outputs": [],
   "source": [
    "plt.scatter(df_centroids['wavel'],df_centroids['wavel']-df_centroids['wavel_bestfit'])\n",
    "plt.ylabel('True minus best fit lambda')\n",
    "plt.xlabel('True lambda')\n",
    "plt.show()"
   ]
  },
  {
   "cell_type": "code",
   "execution_count": 9,
   "id": "9eb86a16",
   "metadata": {},
   "outputs": [],
   "source": [
    "plt.scatter(df_centroids['wavel'],df_centroids['wavel_bestfit'])\n",
    "plt.plot([1000,1700], [1000,1700], linestyle='--')\n",
    "plt.ylabel('Best fit lambda')\n",
    "plt.xlabel('True lambda')\n",
    "plt.show()"
   ]
  },
  {
   "cell_type": "code",
   "execution_count": 10,
   "id": "a52a472d",
   "metadata": {},
   "outputs": [],
   "source": [
    "# pickle\n",
    "\n",
    "file = open('junk_wavel_soln.pkl', 'wb')\n",
    "\n",
    "# dump information to that file\n",
    "pickle.dump(fit_coeffs, file)\n",
    "# close the file\n",
    "file.close()"
   ]
  },
  {
   "cell_type": "code",
   "execution_count": null,
   "id": "260c741d",
   "metadata": {},
   "outputs": [],
   "source": []
  }
 ],
 "metadata": {
  "kernelspec": {
   "display_name": "Python 3 (ipykernel)",
   "language": "python",
   "name": "python3"
  },
  "language_info": {
   "codemirror_mode": {
    "name": "ipython",
    "version": 3
   },
   "file_extension": ".py",
   "mimetype": "text/x-python",
   "name": "python",
   "nbconvert_exporter": "python",
   "pygments_lexer": "ipython3",
   "version": "3.9.16"
  }
 },
 "nbformat": 4,
 "nbformat_minor": 5
}
