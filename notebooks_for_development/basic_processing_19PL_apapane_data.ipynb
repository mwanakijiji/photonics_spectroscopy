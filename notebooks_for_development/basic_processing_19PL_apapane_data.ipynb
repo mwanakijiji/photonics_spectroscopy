{
 "cells": [
  {
   "cell_type": "code",
   "execution_count": null,
   "id": "c055071d",
   "metadata": {},
   "outputs": [],
   "source": [
    "# dark-subtracts some apapane data with 19-port PL"
   ]
  },
  {
   "cell_type": "code",
   "execution_count": 1,
   "id": "fdf2410f",
   "metadata": {},
   "outputs": [],
   "source": [
    "import glob as glob\n",
    "import os\n",
    "import numpy as np\n",
    "from astropy.io import fits"
   ]
  },
  {
   "cell_type": "code",
   "execution_count": 2,
   "id": "3c55dd7f",
   "metadata": {},
   "outputs": [],
   "source": [
    "stem = '/Users/bandari/Documents/git.repos/photonics_spectroscopy/notebooks_for_development/data/19pl/'"
   ]
  },
  {
   "cell_type": "code",
   "execution_count": 3,
   "id": "0c3809b9",
   "metadata": {},
   "outputs": [],
   "source": [
    "raw_poke_frames_19pl = glob.glob(stem + 'raw/19PL_1*fits')\n",
    "raw_bb_frame_19pl = stem + 'raw/19PL_bb_irnd1.0_optnd3.0.fits'\n",
    "raw_nb_frame_19pl = stem + 'raw/19PL_nb_irnd1.0_optnd3.0.fits'\n",
    "dark_apapane = stem + 'raw/apapanedark.fits'"
   ]
  },
  {
   "cell_type": "code",
   "execution_count": 4,
   "id": "996539a7",
   "metadata": {},
   "outputs": [],
   "source": [
    "dark_array = fits.open(dark_apapane)[0].data"
   ]
  },
  {
   "cell_type": "code",
   "execution_count": 6,
   "id": "7db0dd10",
   "metadata": {},
   "outputs": [],
   "source": [
    "# dark subtract\n",
    "\n",
    "dark_array = fits.open(dark_apapane)[0].data\n",
    "\n",
    "for i in range(0,len(raw_poke_frames_19pl)):\n",
    "    \n",
    "    hdul = fits.open(raw_poke_frames_19pl[i])\n",
    "    \n",
    "    dark_subted = np.subtract(hdul[0].data,dark_array)\n",
    "    \n",
    "    hdu = fits.PrimaryHDU(dark_subted)\n",
    "    hdu.writeto(stem + 'dark_subted/'+os.path.basename(raw_poke_frames_19pl[i]))"
   ]
  },
  {
   "cell_type": "code",
   "execution_count": 8,
   "id": "99d0875b",
   "metadata": {},
   "outputs": [
    {
     "data": {
      "text/plain": [
       "(256, 320)"
      ]
     },
     "execution_count": 8,
     "metadata": {},
     "output_type": "execute_result"
    }
   ],
   "source": [
    "np.shape(dark_subted)"
   ]
  },
  {
   "cell_type": "code",
   "execution_count": 7,
   "id": "bfc13589",
   "metadata": {},
   "outputs": [],
   "source": [
    "# dark-subt individual frames\n",
    "\n",
    "frame_this = raw_bb_frame_19pl\n",
    "hdul = fits.open(frame_this)\n",
    "dark_subted = np.subtract(hdul[0].data,dark_array)\n",
    "hdu = fits.PrimaryHDU(dark_subted)\n",
    "hdu.writeto(stem + 'dark_subted/'+os.path.basename(frame_this))"
   ]
  },
  {
   "cell_type": "code",
   "execution_count": null,
   "id": "e39459ec",
   "metadata": {},
   "outputs": [],
   "source": []
  }
 ],
 "metadata": {
  "kernelspec": {
   "display_name": "Python 3 (ipykernel)",
   "language": "python",
   "name": "python3"
  },
  "language_info": {
   "codemirror_mode": {
    "name": "ipython",
    "version": 3
   },
   "file_extension": ".py",
   "mimetype": "text/x-python",
   "name": "python",
   "nbconvert_exporter": "python",
   "pygments_lexer": "ipython3",
   "version": "3.9.16"
  }
 },
 "nbformat": 4,
 "nbformat_minor": 5
}
