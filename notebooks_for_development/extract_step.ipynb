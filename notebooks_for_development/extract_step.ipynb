{
 "cells": [
  {
   "cell_type": "code",
   "execution_count": 1,
   "id": "be8cc56f",
   "metadata": {},
   "outputs": [],
   "source": [
    "# Tests extract step itself, given known matrices"
   ]
  },
  {
   "cell_type": "code",
   "execution_count": 1,
   "id": "0e5d6c4c",
   "metadata": {},
   "outputs": [],
   "source": [
    "import numpy as np\n",
    "import pickle\n",
    "import matplotlib.pyplot as plt\n",
    "\n",
    "from scipy.sparse import diags"
   ]
  },
  {
   "cell_type": "code",
   "execution_count": 2,
   "id": "86263649",
   "metadata": {},
   "outputs": [],
   "source": [
    "# retrieve instrument response matrix\n",
    "\n",
    "file_name = \"../sample.pkl\"\n",
    "open_file = open(file_name, \"rb\")\n",
    "loaded_data = pickle.load(open_file)\n",
    "open_file.close()"
   ]
  },
  {
   "cell_type": "code",
   "execution_count": 3,
   "id": "91829e57",
   "metadata": {},
   "outputs": [],
   "source": [
    "# instrument response matrix A\n",
    "A_mat = loaded_data"
   ]
  },
  {
   "cell_type": "code",
   "execution_count": 4,
   "id": "491cb5c6",
   "metadata": {},
   "outputs": [],
   "source": [
    "# make fake empirical detector readout and noise array\n",
    "\n",
    "# 2D array of counts on detector\n",
    "detector_measured = np.random.normal(loc=0,size=(200,100))\n",
    "\n",
    "detector_variance = 0.1*np.random.normal(loc=0,size=(200,100))"
   ]
  },
  {
   "cell_type": "code",
   "execution_count": 5,
   "id": "1be07398",
   "metadata": {},
   "outputs": [],
   "source": [
    "# make weight matrix\n",
    "\n",
    "w = 1./detector_variance.flatten()\n",
    "W = diags(w, 0)"
   ]
  },
  {
   "cell_type": "code",
   "execution_count": 15,
   "id": "7f909d6b",
   "metadata": {},
   "outputs": [
    {
     "data": {
      "image/png": "[encoded data removed]",
      "text/plain": [
       "<Figure size 640x480 with 1 Axes>"
      ]
     },
     "metadata": {},
     "output_type": "display_data"
    },
    {
     "data": {
      "text/plain": [
       "'\\nplt.imshow(detector_measured, origin=\"lower\")\\nplt.show()\\n\\nplt.imshow(detector_variance, origin=\"lower\")\\nplt.show()\\n'"
      ]
     },
     "execution_count": 15,
     "metadata": {},
     "output_type": "execute_result"
    }
   ],
   "source": [
    "\n",
    "plt.imshow(W.toarray()[0:10,0:10], origin=\"lower\")\n",
    "plt.show()\n",
    "\n",
    "'''\n",
    "plt.imshow(detector_measured, origin=\"lower\")\n",
    "plt.show()\n",
    "\n",
    "plt.imshow(detector_variance, origin=\"lower\")\n",
    "plt.show()\n",
    "'''"
   ]
  },
  {
   "cell_type": "code",
   "execution_count": 2,
   "id": "a2f076ac",
   "metadata": {},
   "outputs": [],
   "source": [
    "def extract(self, im, variance=None, thresh=3e-4):\n",
    "        \"invert linear response to recover cube\"\n",
    "        _log.debug('extract called')\n",
    "        # compute weight array\n",
    "        from scipy.sparse import diags\n",
    "        if variance is None:\n",
    "            w = n.ones(self.sim.ndetpix, dtype=n.float) # uniform weights\n",
    "        else:\n",
    "            w = 1./variance.flatten()\n",
    "        if self.badpix is not None:\n",
    "            wb = n.nonzero(self.badpix.flat)[0]\n",
    "            w[wb] = 0.\n",
    "        if n.any(n.isnan(im)):\n",
    "            wb = n.nonzero(n.isnan(im.flat))[0]\n",
    "            im[n.isnan(im)] = 0. # TEMP\n",
    "            w[wb] = 0.\n",
    "        W = diags(w, 0)\n",
    "\n",
    "        # compute matrices/vectors\n",
    "        ATW = self.A.T.dot(W) # A^T . W\n",
    "        self.report(ATW, 'ATW')\n",
    "        ATWA = ATW.dot(self.A) # A^T . W . A\n",
    "        self.report(ATWA, 'ATWA')\n",
    "        ATWx = ATW.dot(im.flat)\n",
    "\n",
    "        # compute damping coefficient\n",
    "        ATWAdiag = ATWA.diagonal()\n",
    "        damp = thresh * ATWAdiag.max()\n",
    "\n",
    "        # get least-squares solution\n",
    "        from scipy.sparse.linalg import lsmr\n",
    "        _log.info('running least-squares solver ...')\n",
    "        # solve (ATWA)S = ATWx for S, where S is science signal and x is image\n",
    "        spec_lw, istop, itn, normr, normar, norma, conda, normx = \\\n",
    "          lsmr(ATWA, ATWx,\n",
    "               damp=damp,\n",
    "               )\n",
    "        _log.info('done.')\n",
    "\n",
    "              \n",
    "        # reformat structure into datacube\n",
    "        spectra = n.empty((self.sim.nll, self.nlam), dtype=n.float)\n",
    "        spectra[:] = n.nan\n",
    "        spectra[self.wlw] = spec_lw\n",
    "        return spectra"
   ]
  },
  {
   "cell_type": "code",
   "execution_count": null,
   "id": "af71d6d5",
   "metadata": {},
   "outputs": [],
   "source": []
  }
 ],
 "metadata": {
  "kernelspec": {
   "display_name": "Python 3 (ipykernel)",
   "language": "python",
   "name": "python3"
  },
  "language_info": {
   "codemirror_mode": {
    "name": "ipython",
    "version": 3
   },
   "file_extension": ".py",
   "mimetype": "text/x-python",
   "name": "python",
   "nbconvert_exporter": "python",
   "pygments_lexer": "ipython3",
   "version": "3.9.16"
  }
 },
 "nbformat": 4,
 "nbformat_minor": 5
}
