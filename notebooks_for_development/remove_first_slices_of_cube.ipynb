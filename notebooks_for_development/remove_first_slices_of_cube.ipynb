{
 "cells": [
  {
   "cell_type": "code",
   "execution_count": null,
   "id": "75f78c82",
   "metadata": {},
   "outputs": [],
   "source": [
    "# Takes one of SCExAO's giant FITS cubes and saves the first few slices as \n",
    "# another FITS file, so as to do stuff locally with them\n",
    "\n",
    "# Created 2023 Apr 23 by E.S."
   ]
  },
  {
   "cell_type": "code",
   "execution_count": 11,
   "id": "2f306f80",
   "metadata": {},
   "outputs": [],
   "source": [
    "from astropy.io import fits\n",
    "import numpy as np\n",
    "import glob"
   ]
  },
  {
   "cell_type": "code",
   "execution_count": 12,
   "id": "92a2471a",
   "metadata": {},
   "outputs": [],
   "source": [
    "file_list = glob.glob('*.fits')"
   ]
  },
  {
   "cell_type": "code",
   "execution_count": 2,
   "id": "68a8e767",
   "metadata": {},
   "outputs": [],
   "source": [
    "stem = '/Users/bandari/Documents/git.repos/photonics_spectroscopy/notebooks_for_development/'\n",
    "\n",
    "n_slices = 20\n",
    "\n",
    "for num_file in range(0,len(file_list)):\n",
    "\n",
    "    file_name = file_list[num_file]\n",
    "    hdul = fits.open(file_name)\n",
    "    n = hdul[0].data[:n_slices]\n",
    "    \n",
    "    hdu2 = fits.PrimaryHDU(n)\n",
    "    hdul2 = fits.HDUList([hdu2])\n",
    "    hdul2.writeto(file_name.split('.')[0] + '_trunc.fits', overwrite=True)"
   ]
  }
 ],
 "metadata": {
  "kernelspec": {
   "display_name": "Python 3 (ipykernel)",
   "language": "python",
   "name": "python3"
  },
  "language_info": {
   "codemirror_mode": {
    "name": "ipython",
    "version": 3
   },
   "file_extension": ".py",
   "mimetype": "text/x-python",
   "name": "python",
   "nbconvert_exporter": "python",
   "pygments_lexer": "ipython3",
   "version": "3.9.16"
  }
 },
 "nbformat": 4,
 "nbformat_minor": 5
}
