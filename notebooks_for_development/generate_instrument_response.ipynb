{
 "cells": [
  {
   "cell_type": "code",
   "execution_count": 1,
   "id": "d69cd3bd",
   "metadata": {},
   "outputs": [],
   "source": [
    "# This generates an instrument response matrix based on input data with \n",
    "# illumination from different pairs of <lenslet,lambda>"
   ]
  },
  {
   "cell_type": "code",
   "execution_count": 25,
   "id": "dda51d07",
   "metadata": {},
   "outputs": [],
   "source": [
    "import numpy as np\n",
    "import matplotlib.pyplot as plt\n",
    "import sys\n",
    "\n",
    "%matplotlib inline"
   ]
  },
  {
   "cell_type": "code",
   "execution_count": 26,
   "id": "34304842",
   "metadata": {},
   "outputs": [],
   "source": [
    "# 2D detector dims\n",
    "x_size = 100\n",
    "y_size = 200\n",
    "\n",
    "# number of basis set commands\n",
    "# (equivalently, illuminations for every <lenslet,lambda> pair)\n",
    "M_basis_set_cmds = 10"
   ]
  },
  {
   "cell_type": "code",
   "execution_count": 27,
   "id": "a10dabe0",
   "metadata": {},
   "outputs": [],
   "source": [
    "N_pixels = x_size*y_size\n",
    "detector_2D_basis = np.zeros((x_size,y_size)) # initialize the plane of the detector"
   ]
  },
  {
   "cell_type": "code",
   "execution_count": 28,
   "id": "7e892363",
   "metadata": {},
   "outputs": [],
   "source": [
    "# make list of detector responses to illuminations\n",
    "# this will serve as the basis set\n",
    "\n",
    "detector_2D_basis_0 = np.copy(detector_2D_basis)\n",
    "detector_2D_basis_1 = np.copy(detector_2D_basis)\n",
    "detector_2D_basis_2 = np.copy(detector_2D_basis)\n",
    "detector_2D_basis_3 = np.copy(detector_2D_basis)\n",
    "detector_2D_basis_4 = np.copy(detector_2D_basis)\n",
    "detector_2D_basis_5 = np.copy(detector_2D_basis)\n",
    "detector_2D_basis_6 = np.copy(detector_2D_basis)\n",
    "detector_2D_basis_7 = np.copy(detector_2D_basis)\n",
    "detector_2D_basis_8 = np.copy(detector_2D_basis)\n",
    "detector_2D_basis_9 = np.copy(detector_2D_basis)\n",
    "\n",
    "detector_2D_basis_0[40:60,50:60] = 1.2\n",
    "detector_2D_basis_1[40:60,60:70] = 1.2\n",
    "detector_2D_basis_2[40:60,70:80] = 1.2\n",
    "detector_2D_basis_3[40:60,80:90] = 1.2\n",
    "detector_2D_basis_4[40:60,90:100] = 1.2\n",
    "detector_2D_basis_5[40:60,100:110] = 1.2\n",
    "detector_2D_basis_6[40:60,110:120] = 1.2\n",
    "detector_2D_basis_7[40:60,120:130] = 1.2\n",
    "detector_2D_basis_8[40:60,130:140] = 1.2\n",
    "detector_2D_basis_9[40:60,140:150] = 1.2"
   ]
  },
  {
   "cell_type": "code",
   "execution_count": 29,
   "id": "2dcd7382",
   "metadata": {},
   "outputs": [],
   "source": [
    "# make list of basis set commands\n",
    "\n",
    "M_zeros = np.zeros((M_basis_set_cmds,1)) # initialize a blank command vector\n",
    "\n",
    "M_basis_set_cmds_0 = np.copy(M_zeros)\n",
    "M_basis_set_cmds_1 = np.copy(M_zeros)\n",
    "M_basis_set_cmds_2 = np.copy(M_zeros)\n",
    "M_basis_set_cmds_3 = np.copy(M_zeros)\n",
    "M_basis_set_cmds_4 = np.copy(M_zeros)\n",
    "M_basis_set_cmds_5 = np.copy(M_zeros)\n",
    "M_basis_set_cmds_6 = np.copy(M_zeros)\n",
    "M_basis_set_cmds_7 = np.copy(M_zeros)\n",
    "M_basis_set_cmds_8 = np.copy(M_zeros)\n",
    "M_basis_set_cmds_9 = np.copy(M_zeros)\n",
    "\n",
    "M_basis_set_cmds_0[0] = 1\n",
    "M_basis_set_cmds_1[1] = 1\n",
    "M_basis_set_cmds_2[2] = 1\n",
    "M_basis_set_cmds_3[3] = 1\n",
    "M_basis_set_cmds_4[4] = 1\n",
    "M_basis_set_cmds_5[5] = 1\n",
    "M_basis_set_cmds_6[6] = 1\n",
    "M_basis_set_cmds_7[7] = 1\n",
    "M_basis_set_cmds_8[8] = 1\n",
    "M_basis_set_cmds_9[9] = 1"
   ]
  },
  {
   "cell_type": "code",
   "execution_count": 30,
   "id": "1f50da56",
   "metadata": {},
   "outputs": [],
   "source": [
    "# put responses into list so as to access them in a loop\n",
    "detector_response_basis = (detector_2D_basis_0,detector_2D_basis_1,detector_2D_basis_2,detector_2D_basis_3,\n",
    "                          detector_2D_basis_4,detector_2D_basis_5,detector_2D_basis_6,detector_2D_basis_7,\n",
    "                          detector_2D_basis_8,detector_2D_basis_9)\n",
    "\n",
    "# initialize another list to receive flattened, 1D detector responses\n",
    "detector_response_basis_flat = list()\n",
    "\n",
    "# initialize poke matrix\n",
    "poke_matrix = np.zeros((N_pixels,M_basis_set_cmds))"
   ]
  },
  {
   "cell_type": "code",
   "execution_count": 32,
   "id": "fde808af",
   "metadata": {},
   "outputs": [
    {
     "data": {
      "text/plain": [
       "(20000, 10)"
      ]
     },
     "execution_count": 32,
     "metadata": {},
     "output_type": "execute_result"
    }
   ],
   "source": [
    "np.shape(poke_matrix)"
   ]
  },
  {
   "cell_type": "code",
   "execution_count": 9,
   "id": "9702f8d9",
   "metadata": {},
   "outputs": [],
   "source": [
    "# show each 2D array, and put flattened 2D arrays into the 'poke' matrix\n",
    "for i in range(0,M_basis_set_cmds):\n",
    "    \n",
    "    #plt.imshow(detector_response_basis[i], origin=\"lower\")\n",
    "    #plt.show()\n",
    "    \n",
    "    # accumulate flattened responses\n",
    "    flattened = detector_response_basis[i].flatten()\n",
    "    detector_response_basis_flat.append(flattened)\n",
    "    \n",
    "    poke_matrix[:,i] = flattened\n",
    "    \n",
    "    #plt.plot(flattened)\n",
    "    #plt.show()\n",
    "    \n",
    "    #print(\"----\")"
   ]
  },
  {
   "cell_type": "code",
   "execution_count": 10,
   "id": "68f8991a",
   "metadata": {},
   "outputs": [
    {
     "data": {
      "text/plain": [
       "'\\nfig, ax = plt.subplots(nrows=1, figsize=(16,10))\\n\\nax.imshow(poke_matrix, origin=\"lower\")\\nax.set_xlim(0,10)\\nplt.show()\\n'"
      ]
     },
     "execution_count": 10,
     "metadata": {},
     "output_type": "execute_result"
    }
   ],
   "source": [
    "#np.max(poke_matrix)\n",
    "\n",
    "'''\n",
    "fig, ax = plt.subplots(nrows=1, figsize=(16,10))\n",
    "\n",
    "ax.imshow(poke_matrix, origin=\"lower\")\n",
    "ax.set_xlim(0,10)\n",
    "plt.show()\n",
    "'''"
   ]
  },
  {
   "cell_type": "code",
   "execution_count": 33,
   "id": "b2b114c4",
   "metadata": {},
   "outputs": [],
   "source": [
    "# pseudoinverse\n",
    "\n",
    "response_matrix = np.linalg.pinv(poke_matrix)"
   ]
  },
  {
   "cell_type": "code",
   "execution_count": 34,
   "id": "cb06fd70",
   "metadata": {},
   "outputs": [
    {
     "data": {
      "text/plain": [
       "(10, 20000)"
      ]
     },
     "execution_count": 34,
     "metadata": {},
     "output_type": "execute_result"
    }
   ],
   "source": [
    "np.shape(response_matrix)"
   ]
  },
  {
   "cell_type": "code",
   "execution_count": 16,
   "id": "58ea3af7",
   "metadata": {},
   "outputs": [
    {
     "data": {
      "image/png": "[encoded data removed]",
      "text/plain": [
       "<Figure size 640x480 with 1 Axes>"
      ]
     },
     "metadata": {},
     "output_type": "display_data"
    }
   ],
   "source": [
    "# test: science signal S equals (approx) pseudoinverse(P) [response matrix] * V [pixel responses]\n",
    "\n",
    "S = np.matmul(response_matrix,poke_matrix[:,6]) # col of poke matrix here is same as detector_response_basis_flat[0]\n",
    "\n",
    "# how do the calculated and true values compare?\n",
    "\n",
    "plt.clf()\n",
    "# plot the calculated science signal\n",
    "plt.plot(S)\n",
    "# plot the real science signal\n",
    "plt.plot(np.add(M_basis_set_cmds_6,1))\n",
    "plt.xlim([0,20])\n",
    "plt.show()"
   ]
  },
  {
   "cell_type": "code",
   "execution_count": null,
   "id": "ab400048",
   "metadata": {},
   "outputs": [],
   "source": []
  }
 ],
 "metadata": {
  "kernelspec": {
   "display_name": "Python 3 (ipykernel)",
   "language": "python",
   "name": "python3"
  },
  "language_info": {
   "codemirror_mode": {
    "name": "ipython",
    "version": 3
   },
   "file_extension": ".py",
   "mimetype": "text/x-python",
   "name": "python",
   "nbconvert_exporter": "python",
   "pygments_lexer": "ipython3",
   "version": "3.9.16"
  }
 },
 "nbformat": 4,
 "nbformat_minor": 5
}
