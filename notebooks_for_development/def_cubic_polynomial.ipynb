{
 "cells": [
  {
   "cell_type": "code",
   "execution_count": null,
   "id": "7caa6486",
   "metadata": {},
   "outputs": [],
   "source": [
    "# Definition of subic polynomial fit for wavelength solution\n",
    "\n",
    "# Created 2023 Apr 4"
   ]
  },
  {
   "cell_type": "code",
   "execution_count": null,
   "id": "09ad6fbf",
   "metadata": {},
   "outputs": [],
   "source": [
    "# see Eqn. (7) in Brandt+ 2017 JATIS"
   ]
  },
  {
   "cell_type": "code",
   "execution_count": 19,
   "id": "eadadbb2",
   "metadata": {},
   "outputs": [],
   "source": [
    "import matplotlib.pyplot as plt\n",
    "import numpy as np\n",
    "from scipy.optimize import curve_fit"
   ]
  },
  {
   "cell_type": "code",
   "execution_count": 6,
   "id": "8c486631",
   "metadata": {},
   "outputs": [],
   "source": [
    "input_wavel = np.linspace(3900.,5299.,num=100)\n",
    "input_x_coords = np.linspace(0.,1000.,num=100)\n",
    "input_y_coords = np.linspace(30.,20.,num=100)"
   ]
  },
  {
   "cell_type": "code",
   "execution_count": 13,
   "id": "42e484bd",
   "metadata": {},
   "outputs": [],
   "source": [
    "coords = (input_x_coords,input_y_coords)"
   ]
  },
  {
   "cell_type": "code",
   "execution_count": 56,
   "id": "63615ddb",
   "metadata": {},
   "outputs": [],
   "source": [
    "def func(coords, \n",
    "         a00, a10, a20, a30, a01, a11, a21, a02, a12, a03,\n",
    "         b00, b10, b20, b30, b01, b11, b21, b02, b12, b03):\n",
    "    \n",
    "    m0_term = a00 + a10*np.power(coords[1],1) + a20*np.power(coords[1],2) + a30*np.power(coords[1],3)\n",
    "    m1_term = a01*np.power(coords[0],1) + a11*np.power(coords[0],1)*np.power(coords[1],1) + a21*np.power(coords[0],1)*np.power(coords[1],2)\n",
    "    m2_term = a02*np.power(coords[0],2) + a12*np.power(coords[0],2)*np.power(coords[1],1)\n",
    "    m3_term = a03*np.power(coords[0],3)\n",
    "    \n",
    "    #x_pix, y_pix = coords\n",
    "    \n",
    "    return m0_term + m1_term + m2_term + m3_term"
   ]
  },
  {
   "cell_type": "code",
   "execution_count": 58,
   "id": "5d078309",
   "metadata": {},
   "outputs": [],
   "source": [
    "# make fake data\n",
    "a00, a10, a20, a30, a01, a11, a21, a02, a12, a03=1,1,1,1,1,1,1,1,1,1\n",
    "b00, b10, b20, b30, b01, b11, b21, b02, b12, b03=1,1,1,1,1,1,1,1,1,1\n",
    "\n",
    "z = func(coords=coords, \n",
    "         a00=a00, a10=a10, a20=a20, a30=a30, a01=a01, a11=a11, a21=a21, a02=a02, a12=a12, a03=a03,\n",
    "         b00=b00, b10=b10, b20=b20, b30=b30, b01=b01, b11=b11, b21=b21, b02=b02, b12=b12, b03=b03,\n",
    "        ) * 1 + np.random.random(100) / 100"
   ]
  },
  {
   "cell_type": "code",
   "execution_count": 65,
   "id": "68d11805",
   "metadata": {},
   "outputs": [
    {
     "name": "stdout",
     "output_type": "stream",
     "text": [
      "[1.00773345 0.99731032 0.99615352 1.00226412 1.00098656 0.99879387\n",
      " 1.0157843  0.99491327 0.99023894 1.01602417 0.99040298 1.000953\n",
      " 1.00761624 1.00185668 1.01004353 0.98872175 0.9780176  1.00377847\n",
      " 0.98842008 0.99117388]\n"
     ]
    }
   ],
   "source": [
    "# fit\n",
    "p0 = 1.+np.random.normal(scale=0.01,size=20)\n",
    "popt, pcov = curve_fit(func, coords, z, p0)"
   ]
  },
  {
   "cell_type": "code",
   "execution_count": 68,
   "id": "a5f86328",
   "metadata": {},
   "outputs": [
    {
     "name": "stdout",
     "output_type": "stream",
     "text": [
      "p0 [1.00773345 0.99731032 0.99615352 1.00226412 1.00098656 0.99879387\n",
      " 1.0157843  0.99491327 0.99023894 1.01602417 0.99040298 1.000953\n",
      " 1.00761624 1.00185668 1.01004353 0.98872175 0.9780176  1.00377847\n",
      " 0.98842008 0.99117388]\n",
      "--------\n",
      "popt [1.01294327 1.00466193 0.99027036 1.00031885 1.00327862 0.99086252\n",
      " 1.00030407 0.99796548 1.00007079 1.00000068 0.99040298 1.000953\n",
      " 1.00761624 1.00185668 1.01004353 0.98872175 0.9780176  1.00377847\n",
      " 0.98842008 0.99117388]\n"
     ]
    }
   ],
   "source": [
    "print('p0',p0)\n",
    "print('--------')\n",
    "print('popt',popt)"
   ]
  },
  {
   "cell_type": "code",
   "execution_count": 59,
   "id": "fccaa762",
   "metadata": {},
   "outputs": [
    {
     "data": {
      "image/png": "[encoded data removed]",
      "text/plain": [
       "<Figure size 640x480 with 1 Axes>"
      ]
     },
     "metadata": {},
     "output_type": "display_data"
    }
   ],
   "source": [
    "plt.plot(z)\n",
    "plt.show()"
   ]
  },
  {
   "cell_type": "code",
   "execution_count": null,
   "id": "ceafae2a",
   "metadata": {},
   "outputs": [],
   "source": []
  }
 ],
 "metadata": {
  "kernelspec": {
   "display_name": "Python 3 (ipykernel)",
   "language": "python",
   "name": "python3"
  },
  "language_info": {
   "codemirror_mode": {
    "name": "ipython",
    "version": 3
   },
   "file_extension": ".py",
   "mimetype": "text/x-python",
   "name": "python",
   "nbconvert_exporter": "python",
   "pygments_lexer": "ipython3",
   "version": "3.9.16"
  }
 },
 "nbformat": 4,
 "nbformat_minor": 5
}
