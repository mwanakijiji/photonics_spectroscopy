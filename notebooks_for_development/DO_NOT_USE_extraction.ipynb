{
 "cells": [
  {
   "cell_type": "code",
   "execution_count": 1,
   "id": "be8cc56f",
   "metadata": {},
   "outputs": [],
   "source": [
    "# Tests extract step itself, given known matrices"
   ]
  },
  {
   "cell_type": "code",
   "execution_count": 1,
   "id": "0e5d6c4c",
   "metadata": {},
   "outputs": [],
   "source": [
    "import numpy as np\n",
    "import pickle\n",
    "import matplotlib.pyplot as plt\n",
    "from scipy.sparse.linalg import lsmr\n",
    "import time\n",
    "from astropy.io import fits\n",
    "\n",
    "from scipy.sparse import diags"
   ]
  },
  {
   "cell_type": "code",
   "execution_count": 2,
   "id": "52f05f56",
   "metadata": {},
   "outputs": [],
   "source": [
    "# no noise, small footprint:\n",
    "'''\n",
    "file_name_empirical = \"stellar_empirical_no_noise_small_footprint.pkl\"\n",
    "file_name = \"white_light_no_noise_small_footprint.pkl\"\n",
    "'''\n",
    "\n",
    "\n",
    "# no noise, large footprint:\n",
    "file_name_empirical = \"stellar_empirical_no_noise.pkl\"\n",
    "file_name = \"white_light_no_noise.pkl\""
   ]
  },
  {
   "cell_type": "code",
   "execution_count": 3,
   "id": "86263649",
   "metadata": {},
   "outputs": [],
   "source": [
    "# retrieve instrument response matrix\n",
    "\n",
    "open_file = open(file_name, \"rb\")\n",
    "\n",
    "# response matrix, test commands, 2D detector test response\n",
    "A_mat, test_cmds, test_response = pickle.load(open_file)\n",
    "open_file.close()\n",
    "\n",
    "# kludge: transpose\n",
    "A_mat = A_mat.T"
   ]
  },
  {
   "cell_type": "code",
   "execution_count": 4,
   "id": "19844adf",
   "metadata": {},
   "outputs": [],
   "source": [
    "# retrieve 'empirical data'\n",
    "\n",
    "open_file = open(file_name_empirical, \"rb\")\n",
    "\n",
    "empirical_2d_array = pickle.load(open_file)[0]\n",
    "\n",
    "open_file.close()"
   ]
  },
  {
   "cell_type": "code",
   "execution_count": 5,
   "id": "84c6ba52",
   "metadata": {},
   "outputs": [],
   "source": [
    "\n",
    "# add noise\n",
    "\n",
    "array_size = np.shape(np.random.normal(size=(np.shape(empirical_2d_array)[0],np.shape(empirical_2d_array)[1])))\n",
    "empirical_2d_array += (np.max(empirical_2d_array)/20.)*np.random.normal(size=array_size)\n"
   ]
  },
  {
   "cell_type": "code",
   "execution_count": 7,
   "id": "5874b2b9",
   "metadata": {},
   "outputs": [
    {
     "data": {
      "text/plain": [
       "\"\\n# write to FITS to check\\n\\nhdu = fits.PrimaryHDU(empirical_2d_array)\\nhdul = fits.HDUList([hdu])\\nhdul.writeto('junk_empirical_2d_array.fits')\\n\\nhdu = fits.PrimaryHDU(test_response)\\nhdul = fits.HDUList([hdu])\\nhdul.writeto('junk_test_response.fits')\\n\""
      ]
     },
     "execution_count": 7,
     "metadata": {},
     "output_type": "execute_result"
    }
   ],
   "source": [
    "'''\n",
    "# write to FITS to check\n",
    "\n",
    "hdu = fits.PrimaryHDU(empirical_2d_array)\n",
    "hdul = fits.HDUList([hdu])\n",
    "hdul.writeto('junk_empirical_2d_array.fits')\n",
    "\n",
    "hdu = fits.PrimaryHDU(test_response)\n",
    "hdul = fits.HDUList([hdu])\n",
    "hdul.writeto('junk_test_response.fits')\n",
    "'''"
   ]
  },
  {
   "cell_type": "code",
   "execution_count": 8,
   "id": "f277dad2",
   "metadata": {},
   "outputs": [
    {
     "data": {
      "image/png": "[encoded data removed]",
      "text/plain": [
       "<Figure size 640x480 with 1 Axes>"
      ]
     },
     "metadata": {},
     "output_type": "display_data"
    }
   ],
   "source": [
    "plt.imshow(test_cmds)\n",
    "plt.show()"
   ]
  },
  {
   "cell_type": "code",
   "execution_count": 9,
   "id": "491cb5c6",
   "metadata": {},
   "outputs": [],
   "source": [
    "# make fake empirical detector readout and noise array\n",
    "\n",
    "# 2D array of counts on detector\n",
    "#detector_measured_noise = np.random.normal(loc=0,size=(np.shape(test_response)[1],np.shape(test_response)[2]))\n",
    "\n",
    "#detector_variance = 0.1*np.random.normal(loc=0,size=(np.shape(empirical_2d_array)[0],np.shape(empirical_2d_array)[1]))\n",
    "detector_variance = 0.1*np.ones((np.shape(empirical_2d_array)[0],np.shape(empirical_2d_array)[1]))\n"
   ]
  },
  {
   "cell_type": "code",
   "execution_count": 10,
   "id": "42e1576a",
   "metadata": {},
   "outputs": [
    {
     "data": {
      "text/plain": [
       "'\\nfake_data_1 = detector_measured_noise # just noise\\nfake_data_2 = np.add(0.1*detector_measured_noise,test_response[5]) # one element of basis set, plus noise\\nfake_data_3 = np.add(test_response[1],test_response[6]) # two clean elements of basis set\\nfake_data_4 = np.add(np.add(test_response[1],test_response[6]),0.1*detector_measured_noise) # two elements of basis set, plus noise\\nfake_data_5 = np.add(test_response[1],3.*test_response[6]) # two clean elements of basis set, different amplitudes\\n#fake_data_6 = np.add(test_response[0],test_response[10]) # two clean elements of basis set\\n'"
      ]
     },
     "execution_count": 10,
     "metadata": {},
     "output_type": "execute_result"
    }
   ],
   "source": [
    "fake_data_1 = test_response\n",
    "\n",
    "\n",
    "'''\n",
    "fake_data_1 = detector_measured_noise # just noise\n",
    "fake_data_2 = np.add(0.1*detector_measured_noise,test_response[5]) # one element of basis set, plus noise\n",
    "fake_data_3 = np.add(test_response[1],test_response[6]) # two clean elements of basis set\n",
    "fake_data_4 = np.add(np.add(test_response[1],test_response[6]),0.1*detector_measured_noise) # two elements of basis set, plus noise\n",
    "fake_data_5 = np.add(test_response[1],3.*test_response[6]) # two clean elements of basis set, different amplitudes\n",
    "#fake_data_6 = np.add(test_response[0],test_response[10]) # two clean elements of basis set\n",
    "'''"
   ]
  },
  {
   "cell_type": "code",
   "execution_count": 11,
   "id": "1be07398",
   "metadata": {},
   "outputs": [],
   "source": [
    "# make weight matrix\n",
    "\n",
    "w = 1./detector_variance.flatten()\n",
    "W = diags(w, 0)"
   ]
  },
  {
   "cell_type": "code",
   "execution_count": 12,
   "id": "684b1de7",
   "metadata": {},
   "outputs": [],
   "source": [
    "# define what we're decomposing\n",
    "\n",
    "detector_measured = empirical_2d_array"
   ]
  },
  {
   "cell_type": "code",
   "execution_count": 13,
   "id": "54e376c4",
   "metadata": {},
   "outputs": [
    {
     "name": "stdout",
     "output_type": "stream",
     "text": [
      "Time: 0.35646891593933105\n",
      "Time: 0.18311595916748047\n",
      "Time: 0.011923789978027344\n",
      "Time: 9.799003601074219e-05\n",
      "Total time: 0.5559468269348145\n"
     ]
    }
   ],
   "source": [
    "time_00 = time.time()\n",
    "\n",
    "time_0 = time.time()\n",
    "\n",
    "A = A_mat\n",
    "\n",
    "# compute matrices/vectors\n",
    "ATW = A.T@W # A^T . W\n",
    "\n",
    "time_1 = time.time()\n",
    "print(\"Time:\",time_1-time_0)\n",
    "# -------------------------------------\n",
    "time_0 = time.time()\n",
    "\n",
    "#self.report(ATW, 'ATW')\n",
    "#ATWA = ATW.dot(A) # A^T . W . A\n",
    "ATWA = ATW@A # A^T . W . A\n",
    "\n",
    "time_1 = time.time()\n",
    "print(\"Time:\",time_1-time_0)\n",
    "# -------------------------------------\n",
    "time_0 = time.time()\n",
    "\n",
    "#self.report(ATWA, 'ATWA')\n",
    "ATWx = ATW@detector_measured.flat\n",
    "\n",
    "time_1 = time.time()\n",
    "print(\"Time:\",time_1-time_0)\n",
    "\n",
    "time_0 = time.time()\n",
    "\n",
    "thresh=3e-4\n",
    "\n",
    "# compute damping coefficient\n",
    "ATWAdiag = ATWA.diagonal()\n",
    "damp = thresh * ATWAdiag.max()\n",
    "\n",
    "time_1 = time.time()\n",
    "print(\"Time:\",time_1-time_0)\n",
    "\n",
    "spec_lw, istop, itn, normr, normar, norma, conda, normx = \\\n",
    "          lsmr(ATWA, ATWx,\n",
    "               damp=damp,\n",
    "               )\n",
    "\n",
    "time_11 = time.time()\n",
    "\n",
    "print(\"Total time:\", time_11-time_00)"
   ]
  }
 ],
 "metadata": {
  "kernelspec": {
   "display_name": "Python 3 (ipykernel)",
   "language": "python",
   "name": "python3"
  },
  "language_info": {
   "codemirror_mode": {
    "name": "ipython",
    "version": 3
   },
   "file_extension": ".py",
   "mimetype": "text/x-python",
   "name": "python",
   "nbconvert_exporter": "python",
   "pygments_lexer": "ipython3",
   "version": "3.9.16"
  }
 },
 "nbformat": 4,
 "nbformat_minor": 5
}
