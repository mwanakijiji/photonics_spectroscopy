{
 "cells": [
  {
   "cell_type": "code",
   "execution_count": 34,
   "id": "7caa6486",
   "metadata": {},
   "outputs": [],
   "source": [
    "# Definition of cubic polynomial fit for wavelength solution"
   ]
  },
  {
   "cell_type": "code",
   "execution_count": 2,
   "id": "09ad6fbf",
   "metadata": {},
   "outputs": [],
   "source": [
    "# see Eqn. (7) in Brandt+ 2017 JATIS"
   ]
  },
  {
   "cell_type": "code",
   "execution_count": 1,
   "id": "eadadbb2",
   "metadata": {},
   "outputs": [],
   "source": [
    "import matplotlib.pyplot as plt\n",
    "import numpy as np\n",
    "import pandas as pd\n",
    "from scipy.optimize import curve_fit"
   ]
  },
  {
   "cell_type": "code",
   "execution_count": 2,
   "id": "307ae4d5",
   "metadata": {},
   "outputs": [],
   "source": [
    "# fake spectrum\n",
    "stem_spec = '/Users/bandari/Documents/git.repos/rrlfe/src/model_spectra/rrmods_all/original_ascii_files'\n",
    "spec_fake = pd.read_csv(stem_spec + '/700020m30.smo', delim_whitespace=True, names=['wavel','flux','noise'])"
   ]
  },
  {
   "cell_type": "code",
   "execution_count": 6,
   "id": "8c486631",
   "metadata": {},
   "outputs": [],
   "source": [
    "# for a given wavelength, these are the coordinates of the pixels and lenslets\n",
    "\n",
    "'''\n",
    "nx, ny = (10, 10)\n",
    "x = np.linspace(0, 200, nx)\n",
    "y = np.linspace(0, 200, ny)\n",
    "xv, yv = np.meshgrid(x, y)\n",
    "\n",
    "input_x_coords = xv\n",
    "input_y_coords = yv\n",
    "\n",
    "N_data_pts = nx*ny\n",
    "'''\n",
    "\n",
    "N_data_pts = 100\n",
    "\n",
    "input_wavel = np.linspace(3900.,5299.,num=N_data_pts)\n",
    "\n",
    "# pixel x values\n",
    "input_x_coords = np.linspace(0.,1000.,num=N_data_pts)\n",
    "# pixel y values\n",
    "input_y_coords = np.linspace(30.,20.,num=N_data_pts)\n",
    "\n",
    "# lenslet coords\n",
    "lenslet_i_coords = np.arange(0,N_data_pts)\n",
    "lenslet_j_coords = np.arange(0,N_data_pts)"
   ]
  },
  {
   "cell_type": "code",
   "execution_count": 7,
   "id": "42e484bd",
   "metadata": {},
   "outputs": [],
   "source": [
    "xy_coords = (input_x_coords.flatten(),input_y_coords.flatten())\n",
    "lenslet_coords = (lenslet_i_coords,lenslet_j_coords)"
   ]
  },
  {
   "cell_type": "code",
   "execution_count": 8,
   "id": "63615ddb",
   "metadata": {},
   "outputs": [],
   "source": [
    "def func(coords, \n",
    "         a00, a10, a20, a30, a01, a11, a21, a02, a12, a03,\n",
    "         b00, b10, b20, b30, b01, b11, b21, b02, b12, b03):\n",
    "    \n",
    "    m0_term = a00 + a10*np.power(coords[1],1) + a20*np.power(coords[1],2) + a30*np.power(coords[1],3)\n",
    "    m1_term = a01*np.power(coords[0],1) + a11*np.power(coords[0],1)*np.power(coords[1],1) + a21*np.power(coords[0],1)*np.power(coords[1],2)\n",
    "    m2_term = a02*np.power(coords[0],2) + a12*np.power(coords[0],2)*np.power(coords[1],1)\n",
    "    m3_term = a03*np.power(coords[0],3)\n",
    "    \n",
    "    #x_pix, y_pix = coords\n",
    "    \n",
    "    return m0_term + m1_term + m2_term + m3_term"
   ]
  },
  {
   "cell_type": "code",
   "execution_count": 9,
   "id": "5d078309",
   "metadata": {},
   "outputs": [],
   "source": [
    "# make fake data\n",
    "a00, a10, a20, a30, a01, a11, a21, a02, a12, a03=1,1,1,1,1,1,1,1,1,1\n",
    "b00, b10, b20, b30, b01, b11, b21, b02, b12, b03=1,1,1,1,1,1,1,1,1,1\n",
    "\n",
    "z = func(coords=lenslet_coords, \n",
    "         a00=a00, a10=a10, a20=a20, a30=a30, a01=a01, a11=a11, a21=a21, a02=a02, a12=a12, a03=a03,\n",
    "         b00=b00, b10=b10, b20=b20, b30=b30, b01=b01, b11=b11, b21=b21, b02=b02, b12=b12, b03=b03,\n",
    "        ) * 1 + np.random.random(len(xy_coords[0])) / 100"
   ]
  },
  {
   "cell_type": "code",
   "execution_count": 10,
   "id": "68d11805",
   "metadata": {},
   "outputs": [
    {
     "name": "stderr",
     "output_type": "stream",
     "text": [
      "/Users/bandari/anaconda3/envs/extract_env/lib/python3.9/site-packages/scipy/optimize/_minpack_py.py:906: OptimizeWarning: Covariance of the parameters could not be estimated\n",
      "  warnings.warn('Covariance of the parameters could not be estimated',\n"
     ]
    }
   ],
   "source": [
    "# do the fit\n",
    "p0 = 1.+np.random.normal(scale=0.1,size=20)\n",
    "popt, pcov = curve_fit(func, lenslet_coords, z, p0)"
   ]
  },
  {
   "cell_type": "code",
   "execution_count": 11,
   "id": "a5f86328",
   "metadata": {},
   "outputs": [
    {
     "name": "stdout",
     "output_type": "stream",
     "text": [
      "p0 [1.16494585 0.94399566 0.87750306 0.91242153 1.09196681 1.08879794\n",
      " 0.92296904 0.9543012  0.95878913 0.91997918 1.00396946 1.10119955\n",
      " 1.08621754 0.95911401 0.96119886 1.03208635 0.91921285 0.7894568\n",
      " 0.78243226 1.0347086 ]\n",
      "--------\n",
      "popt [1.00606917 0.9384884  0.97365988 0.83751669 1.06151853 1.11948413\n",
      " 1.10501775 0.90685446 0.93670446 1.12076111 1.00396946 1.10119955\n",
      " 1.08621754 0.95911401 0.96119886 1.03208635 0.91921285 0.7894568\n",
      " 0.78243226 1.0347086 ]\n"
     ]
    }
   ],
   "source": [
    "print('p0',p0)\n",
    "print('--------')\n",
    "print('popt',popt)"
   ]
  },
  {
   "cell_type": "code",
   "execution_count": 11,
   "id": "fccaa762",
   "metadata": {},
   "outputs": [],
   "source": [
    "a00, a10, a20, a30, a01, a11, a21, a02, a12, a03=popt[:10]\n",
    "b00, b10, b20, b30, b01, b11, b21, b02, b12, b03=popt[10:]"
   ]
  },
  {
   "cell_type": "code",
   "execution_count": null,
   "id": "6d076fcb",
   "metadata": {},
   "outputs": [],
   "source": [
    "# now map the x,y to wavelength\n",
    "\n"
   ]
  }
 ],
 "metadata": {
  "kernelspec": {
   "display_name": "Python 3 (ipykernel)",
   "language": "python",
   "name": "python3"
  },
  "language_info": {
   "codemirror_mode": {
    "name": "ipython",
    "version": 3
   },
   "file_extension": ".py",
   "mimetype": "text/x-python",
   "name": "python",
   "nbconvert_exporter": "python",
   "pygments_lexer": "ipython3",
   "version": "3.9.16"
  }
 },
 "nbformat": 4,
 "nbformat_minor": 5
}
