{
 "cells": [
  {
   "cell_type": "code",
   "execution_count": null,
   "id": "c7dea349",
   "metadata": {},
   "outputs": [],
   "source": [
    "# Reads in an SDSS spectrum, convolves it with a Gaussian, and combines multiple\n",
    "# ones onto a single array and writes it out \n",
    "\n",
    "# Created 2023 July 2 by E.S."
   ]
  },
  {
   "cell_type": "code",
   "execution_count": 1,
   "id": "22765ab7",
   "metadata": {},
   "outputs": [],
   "source": [
    "import matplotlib.pyplot as plt\n",
    "import pandas as pd"
   ]
  },
  {
   "cell_type": "code",
   "execution_count": 2,
   "id": "7a0ae7e4",
   "metadata": {},
   "outputs": [],
   "source": [
    "stem = '/Users/bandari/Documents/git.repos/photonics_spectroscopy/notebooks_for_development/'"
   ]
  },
  {
   "cell_type": "code",
   "execution_count": 7,
   "id": "5ad26128",
   "metadata": {},
   "outputs": [],
   "source": [
    "df = pd.read_csv(stem + 'data/sdss_spectrum.dat', delim_whitespace=True, names=['wavel','flux'])"
   ]
  },
  {
   "cell_type": "code",
   "execution_count": 8,
   "id": "0a37fd79",
   "metadata": {},
   "outputs": [
    {
     "data": {
      "text/html": [
       "<div>\n",
       "<style scoped>\n",
       "    .dataframe tbody tr th:only-of-type {\n",
       "        vertical-align: middle;\n",
       "    }\n",
       "\n",
       "    .dataframe tbody tr th {\n",
       "        vertical-align: top;\n",
       "    }\n",
       "\n",
       "    .dataframe thead th {\n",
       "        text-align: right;\n",
       "    }\n",
       "</style>\n",
       "<table border=\"1\" class=\"dataframe\">\n",
       "  <thead>\n",
       "    <tr style=\"text-align: right;\">\n",
       "      <th></th>\n",
       "      <th>wavel</th>\n",
       "      <th>flux</th>\n",
       "    </tr>\n",
       "  </thead>\n",
       "  <tbody>\n",
       "    <tr>\n",
       "      <th>0</th>\n",
       "      <td>3911.1108</td>\n",
       "      <td>1.0000</td>\n",
       "    </tr>\n",
       "    <tr>\n",
       "      <th>1</th>\n",
       "      <td>3912.0115</td>\n",
       "      <td>0.9719</td>\n",
       "    </tr>\n",
       "    <tr>\n",
       "      <th>2</th>\n",
       "      <td>3912.9124</td>\n",
       "      <td>0.8503</td>\n",
       "    </tr>\n",
       "    <tr>\n",
       "      <th>3</th>\n",
       "      <td>3913.8135</td>\n",
       "      <td>0.7793</td>\n",
       "    </tr>\n",
       "    <tr>\n",
       "      <th>4</th>\n",
       "      <td>3914.7146</td>\n",
       "      <td>0.7999</td>\n",
       "    </tr>\n",
       "    <tr>\n",
       "      <th>...</th>\n",
       "      <td>...</td>\n",
       "      <td>...</td>\n",
       "    </tr>\n",
       "    <tr>\n",
       "      <th>1010</th>\n",
       "      <td>4945.3853</td>\n",
       "      <td>1.0512</td>\n",
       "    </tr>\n",
       "    <tr>\n",
       "      <th>1011</th>\n",
       "      <td>4946.5240</td>\n",
       "      <td>0.9686</td>\n",
       "    </tr>\n",
       "    <tr>\n",
       "      <th>1012</th>\n",
       "      <td>4947.6630</td>\n",
       "      <td>1.0618</td>\n",
       "    </tr>\n",
       "    <tr>\n",
       "      <th>1013</th>\n",
       "      <td>4948.8022</td>\n",
       "      <td>0.9255</td>\n",
       "    </tr>\n",
       "    <tr>\n",
       "      <th>1014</th>\n",
       "      <td>4949.9420</td>\n",
       "      <td>1.0000</td>\n",
       "    </tr>\n",
       "  </tbody>\n",
       "</table>\n",
       "<p>1015 rows × 2 columns</p>\n",
       "</div>"
      ],
      "text/plain": [
       "          wavel    flux\n",
       "0     3911.1108  1.0000\n",
       "1     3912.0115  0.9719\n",
       "2     3912.9124  0.8503\n",
       "3     3913.8135  0.7793\n",
       "4     3914.7146  0.7999\n",
       "...         ...     ...\n",
       "1010  4945.3853  1.0512\n",
       "1011  4946.5240  0.9686\n",
       "1012  4947.6630  1.0618\n",
       "1013  4948.8022  0.9255\n",
       "1014  4949.9420  1.0000\n",
       "\n",
       "[1015 rows x 2 columns]"
      ]
     },
     "execution_count": 8,
     "metadata": {},
     "output_type": "execute_result"
    }
   ],
   "source": [
    "df"
   ]
  },
  {
   "cell_type": "code",
   "execution_count": null,
   "id": "733beb65",
   "metadata": {},
   "outputs": [],
   "source": []
  }
 ],
 "metadata": {
  "kernelspec": {
   "display_name": "Python 3 (ipykernel)",
   "language": "python",
   "name": "python3"
  },
  "language_info": {
   "codemirror_mode": {
    "name": "ipython",
    "version": 3
   },
   "file_extension": ".py",
   "mimetype": "text/x-python",
   "name": "python",
   "nbconvert_exporter": "python",
   "pygments_lexer": "ipython3",
   "version": "3.9.16"
  }
 },
 "nbformat": 4,
 "nbformat_minor": 5
}
